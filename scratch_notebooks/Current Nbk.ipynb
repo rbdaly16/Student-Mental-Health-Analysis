{
 "cells": [
  {
   "cell_type": "code",
   "execution_count": 1,
   "metadata": {},
   "outputs": [],
   "source": [
    "#Imports\n",
    "import pandas as pd\n",
    "import numpy as np\n",
    "from sklearn.preprocessing import normalize, OneHotEncoder, StandardScaler, OrdinalEncoder, PolynomialFeatures\n",
    "from sklearn.model_selection import train_test_split, cross_val_score, cross_validate, GridSearchCV, RandomizedSearchCV\n",
    "from sklearn.dummy import DummyClassifier\n",
    "from sklearn.metrics import mean_squared_error, accuracy_score, recall_score, make_scorer, confusion_matrix, ConfusionMatrixDisplay, f1_score, plot_roc_curve\n",
    "from sklearn.compose import ColumnTransformer\n",
    "from sklearn.pipeline import Pipeline, FeatureUnion\n",
    "import statsmodels.api as sm\n",
    "from sklearn.tree import DecisionTreeClassifier\n",
    "from sklearn.ensemble import RandomForestClassifier, StackingClassifier\n",
    "from imblearn.over_sampling import SMOTE\n",
    "from imblearn.pipeline import Pipeline\n",
    "from sklearn.linear_model import LogisticRegression\n",
    "from sklearn.neural_network import MLPClassifier\n",
    "import pickle\n",
    "from sklearn.ensemble import GradientBoostingClassifier\n",
    "import xgboost as xgb\n",
    "from sklearn import svm"
   ]
  },
  {
   "cell_type": "markdown",
   "metadata": {},
   "source": [
    "## Data Understanding"
   ]
  },
  {
   "cell_type": "code",
   "execution_count": 2,
   "metadata": {},
   "outputs": [],
   "source": [
    "df = pd.read_csv('../data/students_mental_health_survey.csv')"
   ]
  },
  {
   "cell_type": "code",
   "execution_count": 3,
   "metadata": {},
   "outputs": [
    {
     "data": {
      "text/html": [
       "<div>\n",
       "<style scoped>\n",
       "    .dataframe tbody tr th:only-of-type {\n",
       "        vertical-align: middle;\n",
       "    }\n",
       "\n",
       "    .dataframe tbody tr th {\n",
       "        vertical-align: top;\n",
       "    }\n",
       "\n",
       "    .dataframe thead th {\n",
       "        text-align: right;\n",
       "    }\n",
       "</style>\n",
       "<table border=\"1\" class=\"dataframe\">\n",
       "  <thead>\n",
       "    <tr style=\"text-align: right;\">\n",
       "      <th></th>\n",
       "      <th>Age</th>\n",
       "      <th>Course</th>\n",
       "      <th>Gender</th>\n",
       "      <th>CGPA</th>\n",
       "      <th>Stress_Level</th>\n",
       "      <th>Depression_Score</th>\n",
       "      <th>Anxiety_Score</th>\n",
       "      <th>Sleep_Quality</th>\n",
       "      <th>Physical_Activity</th>\n",
       "      <th>Diet_Quality</th>\n",
       "      <th>Social_Support</th>\n",
       "      <th>Relationship_Status</th>\n",
       "      <th>Substance_Use</th>\n",
       "      <th>Counseling_Service_Use</th>\n",
       "      <th>Family_History</th>\n",
       "      <th>Chronic_Illness</th>\n",
       "      <th>Financial_Stress</th>\n",
       "      <th>Extracurricular_Involvement</th>\n",
       "      <th>Semester_Credit_Load</th>\n",
       "      <th>Residence_Type</th>\n",
       "    </tr>\n",
       "  </thead>\n",
       "  <tbody>\n",
       "    <tr>\n",
       "      <th>0</th>\n",
       "      <td>25</td>\n",
       "      <td>Others</td>\n",
       "      <td>Male</td>\n",
       "      <td>3.56</td>\n",
       "      <td>3</td>\n",
       "      <td>3</td>\n",
       "      <td>2</td>\n",
       "      <td>Good</td>\n",
       "      <td>Moderate</td>\n",
       "      <td>Good</td>\n",
       "      <td>Moderate</td>\n",
       "      <td>Married</td>\n",
       "      <td>Never</td>\n",
       "      <td>Never</td>\n",
       "      <td>No</td>\n",
       "      <td>No</td>\n",
       "      <td>2</td>\n",
       "      <td>Moderate</td>\n",
       "      <td>17</td>\n",
       "      <td>On-Campus</td>\n",
       "    </tr>\n",
       "    <tr>\n",
       "      <th>1</th>\n",
       "      <td>24</td>\n",
       "      <td>Engineering</td>\n",
       "      <td>Female</td>\n",
       "      <td>2.44</td>\n",
       "      <td>0</td>\n",
       "      <td>3</td>\n",
       "      <td>0</td>\n",
       "      <td>Average</td>\n",
       "      <td>Low</td>\n",
       "      <td>Average</td>\n",
       "      <td>Low</td>\n",
       "      <td>Single</td>\n",
       "      <td>Occasionally</td>\n",
       "      <td>Occasionally</td>\n",
       "      <td>No</td>\n",
       "      <td>No</td>\n",
       "      <td>3</td>\n",
       "      <td>Low</td>\n",
       "      <td>27</td>\n",
       "      <td>On-Campus</td>\n",
       "    </tr>\n",
       "    <tr>\n",
       "      <th>2</th>\n",
       "      <td>19</td>\n",
       "      <td>Business</td>\n",
       "      <td>Female</td>\n",
       "      <td>3.74</td>\n",
       "      <td>4</td>\n",
       "      <td>0</td>\n",
       "      <td>3</td>\n",
       "      <td>Good</td>\n",
       "      <td>Low</td>\n",
       "      <td>Average</td>\n",
       "      <td>Moderate</td>\n",
       "      <td>In a Relationship</td>\n",
       "      <td>Never</td>\n",
       "      <td>Occasionally</td>\n",
       "      <td>No</td>\n",
       "      <td>No</td>\n",
       "      <td>4</td>\n",
       "      <td>High</td>\n",
       "      <td>15</td>\n",
       "      <td>On-Campus</td>\n",
       "    </tr>\n",
       "    <tr>\n",
       "      <th>3</th>\n",
       "      <td>19</td>\n",
       "      <td>Computer Science</td>\n",
       "      <td>Male</td>\n",
       "      <td>3.65</td>\n",
       "      <td>2</td>\n",
       "      <td>1</td>\n",
       "      <td>0</td>\n",
       "      <td>Average</td>\n",
       "      <td>Low</td>\n",
       "      <td>Average</td>\n",
       "      <td>Moderate</td>\n",
       "      <td>Single</td>\n",
       "      <td>NaN</td>\n",
       "      <td>Never</td>\n",
       "      <td>No</td>\n",
       "      <td>No</td>\n",
       "      <td>4</td>\n",
       "      <td>Moderate</td>\n",
       "      <td>20</td>\n",
       "      <td>Off-Campus</td>\n",
       "    </tr>\n",
       "    <tr>\n",
       "      <th>4</th>\n",
       "      <td>18</td>\n",
       "      <td>Business</td>\n",
       "      <td>Male</td>\n",
       "      <td>3.40</td>\n",
       "      <td>3</td>\n",
       "      <td>3</td>\n",
       "      <td>4</td>\n",
       "      <td>Good</td>\n",
       "      <td>Low</td>\n",
       "      <td>Average</td>\n",
       "      <td>High</td>\n",
       "      <td>Married</td>\n",
       "      <td>Never</td>\n",
       "      <td>Never</td>\n",
       "      <td>No</td>\n",
       "      <td>Yes</td>\n",
       "      <td>0</td>\n",
       "      <td>High</td>\n",
       "      <td>23</td>\n",
       "      <td>On-Campus</td>\n",
       "    </tr>\n",
       "  </tbody>\n",
       "</table>\n",
       "</div>"
      ],
      "text/plain": [
       "   Age            Course  Gender  CGPA  Stress_Level  Depression_Score  \\\n",
       "0   25            Others    Male  3.56             3                 3   \n",
       "1   24       Engineering  Female  2.44             0                 3   \n",
       "2   19          Business  Female  3.74             4                 0   \n",
       "3   19  Computer Science    Male  3.65             2                 1   \n",
       "4   18          Business    Male  3.40             3                 3   \n",
       "\n",
       "   Anxiety_Score Sleep_Quality Physical_Activity Diet_Quality Social_Support  \\\n",
       "0              2          Good          Moderate         Good       Moderate   \n",
       "1              0       Average               Low      Average            Low   \n",
       "2              3          Good               Low      Average       Moderate   \n",
       "3              0       Average               Low      Average       Moderate   \n",
       "4              4          Good               Low      Average           High   \n",
       "\n",
       "  Relationship_Status Substance_Use Counseling_Service_Use Family_History  \\\n",
       "0             Married         Never                  Never             No   \n",
       "1              Single  Occasionally           Occasionally             No   \n",
       "2   In a Relationship         Never           Occasionally             No   \n",
       "3              Single           NaN                  Never             No   \n",
       "4             Married         Never                  Never             No   \n",
       "\n",
       "  Chronic_Illness  Financial_Stress Extracurricular_Involvement  \\\n",
       "0              No                 2                    Moderate   \n",
       "1              No                 3                         Low   \n",
       "2              No                 4                        High   \n",
       "3              No                 4                    Moderate   \n",
       "4             Yes                 0                        High   \n",
       "\n",
       "   Semester_Credit_Load Residence_Type  \n",
       "0                    17      On-Campus  \n",
       "1                    27      On-Campus  \n",
       "2                    15      On-Campus  \n",
       "3                    20     Off-Campus  \n",
       "4                    23      On-Campus  "
      ]
     },
     "execution_count": 3,
     "metadata": {},
     "output_type": "execute_result"
    }
   ],
   "source": [
    "df.head()"
   ]
  },
  {
   "cell_type": "code",
   "execution_count": 4,
   "metadata": {},
   "outputs": [
    {
     "name": "stdout",
     "output_type": "stream",
     "text": [
      "<class 'pandas.core.frame.DataFrame'>\n",
      "RangeIndex: 7022 entries, 0 to 7021\n",
      "Data columns (total 20 columns):\n",
      " #   Column                       Non-Null Count  Dtype  \n",
      "---  ------                       --------------  -----  \n",
      " 0   Age                          7022 non-null   int64  \n",
      " 1   Course                       7022 non-null   object \n",
      " 2   Gender                       7022 non-null   object \n",
      " 3   CGPA                         7010 non-null   float64\n",
      " 4   Stress_Level                 7022 non-null   int64  \n",
      " 5   Depression_Score             7022 non-null   int64  \n",
      " 6   Anxiety_Score                7022 non-null   int64  \n",
      " 7   Sleep_Quality                7022 non-null   object \n",
      " 8   Physical_Activity            7022 non-null   object \n",
      " 9   Diet_Quality                 7022 non-null   object \n",
      " 10  Social_Support               7022 non-null   object \n",
      " 11  Relationship_Status          7022 non-null   object \n",
      " 12  Substance_Use                7007 non-null   object \n",
      " 13  Counseling_Service_Use       7022 non-null   object \n",
      " 14  Family_History               7022 non-null   object \n",
      " 15  Chronic_Illness              7022 non-null   object \n",
      " 16  Financial_Stress             7022 non-null   int64  \n",
      " 17  Extracurricular_Involvement  7022 non-null   object \n",
      " 18  Semester_Credit_Load         7022 non-null   int64  \n",
      " 19  Residence_Type               7022 non-null   object \n",
      "dtypes: float64(1), int64(6), object(13)\n",
      "memory usage: 1.1+ MB\n"
     ]
    }
   ],
   "source": [
    "df.info()"
   ]
  },
  {
   "cell_type": "code",
   "execution_count": 5,
   "metadata": {},
   "outputs": [
    {
     "data": {
      "text/html": [
       "<div>\n",
       "<style scoped>\n",
       "    .dataframe tbody tr th:only-of-type {\n",
       "        vertical-align: middle;\n",
       "    }\n",
       "\n",
       "    .dataframe tbody tr th {\n",
       "        vertical-align: top;\n",
       "    }\n",
       "\n",
       "    .dataframe thead th {\n",
       "        text-align: right;\n",
       "    }\n",
       "</style>\n",
       "<table border=\"1\" class=\"dataframe\">\n",
       "  <thead>\n",
       "    <tr style=\"text-align: right;\">\n",
       "      <th></th>\n",
       "      <th>Age</th>\n",
       "      <th>CGPA</th>\n",
       "      <th>Stress_Level</th>\n",
       "      <th>Depression_Score</th>\n",
       "      <th>Anxiety_Score</th>\n",
       "      <th>Financial_Stress</th>\n",
       "      <th>Semester_Credit_Load</th>\n",
       "    </tr>\n",
       "  </thead>\n",
       "  <tbody>\n",
       "    <tr>\n",
       "      <th>count</th>\n",
       "      <td>7022.000000</td>\n",
       "      <td>7010.00000</td>\n",
       "      <td>7022.000000</td>\n",
       "      <td>7022.000000</td>\n",
       "      <td>7022.000000</td>\n",
       "      <td>7022.000000</td>\n",
       "      <td>7022.000000</td>\n",
       "    </tr>\n",
       "    <tr>\n",
       "      <th>mean</th>\n",
       "      <td>23.003418</td>\n",
       "      <td>3.49127</td>\n",
       "      <td>2.427941</td>\n",
       "      <td>2.254486</td>\n",
       "      <td>2.300484</td>\n",
       "      <td>2.453005</td>\n",
       "      <td>22.010538</td>\n",
       "    </tr>\n",
       "    <tr>\n",
       "      <th>std</th>\n",
       "      <td>3.853978</td>\n",
       "      <td>0.28742</td>\n",
       "      <td>1.638408</td>\n",
       "      <td>1.625193</td>\n",
       "      <td>1.624305</td>\n",
       "      <td>1.708995</td>\n",
       "      <td>4.358380</td>\n",
       "    </tr>\n",
       "    <tr>\n",
       "      <th>min</th>\n",
       "      <td>18.000000</td>\n",
       "      <td>2.44000</td>\n",
       "      <td>0.000000</td>\n",
       "      <td>0.000000</td>\n",
       "      <td>0.000000</td>\n",
       "      <td>0.000000</td>\n",
       "      <td>15.000000</td>\n",
       "    </tr>\n",
       "    <tr>\n",
       "      <th>25%</th>\n",
       "      <td>20.000000</td>\n",
       "      <td>3.29000</td>\n",
       "      <td>1.000000</td>\n",
       "      <td>1.000000</td>\n",
       "      <td>1.000000</td>\n",
       "      <td>1.000000</td>\n",
       "      <td>18.000000</td>\n",
       "    </tr>\n",
       "    <tr>\n",
       "      <th>50%</th>\n",
       "      <td>22.000000</td>\n",
       "      <td>3.50000</td>\n",
       "      <td>2.000000</td>\n",
       "      <td>2.000000</td>\n",
       "      <td>2.000000</td>\n",
       "      <td>2.000000</td>\n",
       "      <td>22.000000</td>\n",
       "    </tr>\n",
       "    <tr>\n",
       "      <th>75%</th>\n",
       "      <td>25.000000</td>\n",
       "      <td>3.70000</td>\n",
       "      <td>4.000000</td>\n",
       "      <td>3.000000</td>\n",
       "      <td>4.000000</td>\n",
       "      <td>4.000000</td>\n",
       "      <td>26.000000</td>\n",
       "    </tr>\n",
       "    <tr>\n",
       "      <th>max</th>\n",
       "      <td>35.000000</td>\n",
       "      <td>4.00000</td>\n",
       "      <td>5.000000</td>\n",
       "      <td>5.000000</td>\n",
       "      <td>5.000000</td>\n",
       "      <td>5.000000</td>\n",
       "      <td>29.000000</td>\n",
       "    </tr>\n",
       "  </tbody>\n",
       "</table>\n",
       "</div>"
      ],
      "text/plain": [
       "               Age        CGPA  Stress_Level  Depression_Score  Anxiety_Score  \\\n",
       "count  7022.000000  7010.00000   7022.000000       7022.000000    7022.000000   \n",
       "mean     23.003418     3.49127      2.427941          2.254486       2.300484   \n",
       "std       3.853978     0.28742      1.638408          1.625193       1.624305   \n",
       "min      18.000000     2.44000      0.000000          0.000000       0.000000   \n",
       "25%      20.000000     3.29000      1.000000          1.000000       1.000000   \n",
       "50%      22.000000     3.50000      2.000000          2.000000       2.000000   \n",
       "75%      25.000000     3.70000      4.000000          3.000000       4.000000   \n",
       "max      35.000000     4.00000      5.000000          5.000000       5.000000   \n",
       "\n",
       "       Financial_Stress  Semester_Credit_Load  \n",
       "count       7022.000000           7022.000000  \n",
       "mean           2.453005             22.010538  \n",
       "std            1.708995              4.358380  \n",
       "min            0.000000             15.000000  \n",
       "25%            1.000000             18.000000  \n",
       "50%            2.000000             22.000000  \n",
       "75%            4.000000             26.000000  \n",
       "max            5.000000             29.000000  "
      ]
     },
     "execution_count": 5,
     "metadata": {},
     "output_type": "execute_result"
    }
   ],
   "source": [
    "df.describe()"
   ]
  },
  {
   "cell_type": "code",
   "execution_count": 6,
   "metadata": {},
   "outputs": [],
   "source": [
    "# There are a total of 27 rows with null values so decided to drop all 27 rows. \n",
    "df.dropna(inplace=True)"
   ]
  },
  {
   "cell_type": "code",
   "execution_count": 7,
   "metadata": {},
   "outputs": [],
   "source": [
    "df.reset_index(inplace=True, drop=True)"
   ]
  },
  {
   "cell_type": "code",
   "execution_count": 8,
   "metadata": {},
   "outputs": [
    {
     "data": {
      "text/html": [
       "<div>\n",
       "<style scoped>\n",
       "    .dataframe tbody tr th:only-of-type {\n",
       "        vertical-align: middle;\n",
       "    }\n",
       "\n",
       "    .dataframe tbody tr th {\n",
       "        vertical-align: top;\n",
       "    }\n",
       "\n",
       "    .dataframe thead th {\n",
       "        text-align: right;\n",
       "    }\n",
       "</style>\n",
       "<table border=\"1\" class=\"dataframe\">\n",
       "  <thead>\n",
       "    <tr style=\"text-align: right;\">\n",
       "      <th></th>\n",
       "      <th>Age</th>\n",
       "      <th>Course</th>\n",
       "      <th>Gender</th>\n",
       "      <th>CGPA</th>\n",
       "      <th>Stress_Level</th>\n",
       "      <th>Depression_Score</th>\n",
       "      <th>Anxiety_Score</th>\n",
       "      <th>Sleep_Quality</th>\n",
       "      <th>Physical_Activity</th>\n",
       "      <th>Diet_Quality</th>\n",
       "      <th>Social_Support</th>\n",
       "      <th>Relationship_Status</th>\n",
       "      <th>Substance_Use</th>\n",
       "      <th>Counseling_Service_Use</th>\n",
       "      <th>Family_History</th>\n",
       "      <th>Chronic_Illness</th>\n",
       "      <th>Financial_Stress</th>\n",
       "      <th>Extracurricular_Involvement</th>\n",
       "      <th>Semester_Credit_Load</th>\n",
       "      <th>Residence_Type</th>\n",
       "    </tr>\n",
       "  </thead>\n",
       "  <tbody>\n",
       "    <tr>\n",
       "      <th>0</th>\n",
       "      <td>25</td>\n",
       "      <td>Others</td>\n",
       "      <td>Male</td>\n",
       "      <td>3.56</td>\n",
       "      <td>3</td>\n",
       "      <td>3</td>\n",
       "      <td>2</td>\n",
       "      <td>Good</td>\n",
       "      <td>Moderate</td>\n",
       "      <td>Good</td>\n",
       "      <td>Moderate</td>\n",
       "      <td>Married</td>\n",
       "      <td>Never</td>\n",
       "      <td>Never</td>\n",
       "      <td>No</td>\n",
       "      <td>No</td>\n",
       "      <td>2</td>\n",
       "      <td>Moderate</td>\n",
       "      <td>17</td>\n",
       "      <td>On-Campus</td>\n",
       "    </tr>\n",
       "    <tr>\n",
       "      <th>1</th>\n",
       "      <td>24</td>\n",
       "      <td>Engineering</td>\n",
       "      <td>Female</td>\n",
       "      <td>2.44</td>\n",
       "      <td>0</td>\n",
       "      <td>3</td>\n",
       "      <td>0</td>\n",
       "      <td>Average</td>\n",
       "      <td>Low</td>\n",
       "      <td>Average</td>\n",
       "      <td>Low</td>\n",
       "      <td>Single</td>\n",
       "      <td>Occasionally</td>\n",
       "      <td>Occasionally</td>\n",
       "      <td>No</td>\n",
       "      <td>No</td>\n",
       "      <td>3</td>\n",
       "      <td>Low</td>\n",
       "      <td>27</td>\n",
       "      <td>On-Campus</td>\n",
       "    </tr>\n",
       "    <tr>\n",
       "      <th>2</th>\n",
       "      <td>19</td>\n",
       "      <td>Business</td>\n",
       "      <td>Female</td>\n",
       "      <td>3.74</td>\n",
       "      <td>4</td>\n",
       "      <td>0</td>\n",
       "      <td>3</td>\n",
       "      <td>Good</td>\n",
       "      <td>Low</td>\n",
       "      <td>Average</td>\n",
       "      <td>Moderate</td>\n",
       "      <td>In a Relationship</td>\n",
       "      <td>Never</td>\n",
       "      <td>Occasionally</td>\n",
       "      <td>No</td>\n",
       "      <td>No</td>\n",
       "      <td>4</td>\n",
       "      <td>High</td>\n",
       "      <td>15</td>\n",
       "      <td>On-Campus</td>\n",
       "    </tr>\n",
       "    <tr>\n",
       "      <th>3</th>\n",
       "      <td>18</td>\n",
       "      <td>Business</td>\n",
       "      <td>Male</td>\n",
       "      <td>3.40</td>\n",
       "      <td>3</td>\n",
       "      <td>3</td>\n",
       "      <td>4</td>\n",
       "      <td>Good</td>\n",
       "      <td>Low</td>\n",
       "      <td>Average</td>\n",
       "      <td>High</td>\n",
       "      <td>Married</td>\n",
       "      <td>Never</td>\n",
       "      <td>Never</td>\n",
       "      <td>No</td>\n",
       "      <td>Yes</td>\n",
       "      <td>0</td>\n",
       "      <td>High</td>\n",
       "      <td>23</td>\n",
       "      <td>On-Campus</td>\n",
       "    </tr>\n",
       "    <tr>\n",
       "      <th>4</th>\n",
       "      <td>21</td>\n",
       "      <td>Medical</td>\n",
       "      <td>Female</td>\n",
       "      <td>3.35</td>\n",
       "      <td>2</td>\n",
       "      <td>4</td>\n",
       "      <td>3</td>\n",
       "      <td>Good</td>\n",
       "      <td>Moderate</td>\n",
       "      <td>Good</td>\n",
       "      <td>High</td>\n",
       "      <td>Single</td>\n",
       "      <td>Never</td>\n",
       "      <td>Never</td>\n",
       "      <td>No</td>\n",
       "      <td>No</td>\n",
       "      <td>5</td>\n",
       "      <td>Moderate</td>\n",
       "      <td>19</td>\n",
       "      <td>Off-Campus</td>\n",
       "    </tr>\n",
       "    <tr>\n",
       "      <th>...</th>\n",
       "      <td>...</td>\n",
       "      <td>...</td>\n",
       "      <td>...</td>\n",
       "      <td>...</td>\n",
       "      <td>...</td>\n",
       "      <td>...</td>\n",
       "      <td>...</td>\n",
       "      <td>...</td>\n",
       "      <td>...</td>\n",
       "      <td>...</td>\n",
       "      <td>...</td>\n",
       "      <td>...</td>\n",
       "      <td>...</td>\n",
       "      <td>...</td>\n",
       "      <td>...</td>\n",
       "      <td>...</td>\n",
       "      <td>...</td>\n",
       "      <td>...</td>\n",
       "      <td>...</td>\n",
       "      <td>...</td>\n",
       "    </tr>\n",
       "    <tr>\n",
       "      <th>6990</th>\n",
       "      <td>20</td>\n",
       "      <td>Law</td>\n",
       "      <td>Female</td>\n",
       "      <td>3.33</td>\n",
       "      <td>1</td>\n",
       "      <td>1</td>\n",
       "      <td>1</td>\n",
       "      <td>Average</td>\n",
       "      <td>Low</td>\n",
       "      <td>Average</td>\n",
       "      <td>Moderate</td>\n",
       "      <td>In a Relationship</td>\n",
       "      <td>Never</td>\n",
       "      <td>Occasionally</td>\n",
       "      <td>No</td>\n",
       "      <td>No</td>\n",
       "      <td>3</td>\n",
       "      <td>Moderate</td>\n",
       "      <td>29</td>\n",
       "      <td>Off-Campus</td>\n",
       "    </tr>\n",
       "    <tr>\n",
       "      <th>6991</th>\n",
       "      <td>20</td>\n",
       "      <td>Law</td>\n",
       "      <td>Female</td>\n",
       "      <td>3.69</td>\n",
       "      <td>3</td>\n",
       "      <td>1</td>\n",
       "      <td>5</td>\n",
       "      <td>Good</td>\n",
       "      <td>Low</td>\n",
       "      <td>Poor</td>\n",
       "      <td>High</td>\n",
       "      <td>Single</td>\n",
       "      <td>Never</td>\n",
       "      <td>Frequently</td>\n",
       "      <td>Yes</td>\n",
       "      <td>No</td>\n",
       "      <td>1</td>\n",
       "      <td>High</td>\n",
       "      <td>26</td>\n",
       "      <td>Off-Campus</td>\n",
       "    </tr>\n",
       "    <tr>\n",
       "      <th>6992</th>\n",
       "      <td>24</td>\n",
       "      <td>Medical</td>\n",
       "      <td>Female</td>\n",
       "      <td>3.73</td>\n",
       "      <td>3</td>\n",
       "      <td>4</td>\n",
       "      <td>1</td>\n",
       "      <td>Good</td>\n",
       "      <td>Moderate</td>\n",
       "      <td>Average</td>\n",
       "      <td>High</td>\n",
       "      <td>Single</td>\n",
       "      <td>Never</td>\n",
       "      <td>Occasionally</td>\n",
       "      <td>No</td>\n",
       "      <td>No</td>\n",
       "      <td>3</td>\n",
       "      <td>Low</td>\n",
       "      <td>15</td>\n",
       "      <td>Off-Campus</td>\n",
       "    </tr>\n",
       "    <tr>\n",
       "      <th>6993</th>\n",
       "      <td>26</td>\n",
       "      <td>Others</td>\n",
       "      <td>Male</td>\n",
       "      <td>3.65</td>\n",
       "      <td>4</td>\n",
       "      <td>5</td>\n",
       "      <td>1</td>\n",
       "      <td>Good</td>\n",
       "      <td>High</td>\n",
       "      <td>Poor</td>\n",
       "      <td>Moderate</td>\n",
       "      <td>Married</td>\n",
       "      <td>Never</td>\n",
       "      <td>Occasionally</td>\n",
       "      <td>No</td>\n",
       "      <td>Yes</td>\n",
       "      <td>4</td>\n",
       "      <td>Moderate</td>\n",
       "      <td>17</td>\n",
       "      <td>Off-Campus</td>\n",
       "    </tr>\n",
       "    <tr>\n",
       "      <th>6994</th>\n",
       "      <td>24</td>\n",
       "      <td>Medical</td>\n",
       "      <td>Male</td>\n",
       "      <td>3.65</td>\n",
       "      <td>4</td>\n",
       "      <td>3</td>\n",
       "      <td>4</td>\n",
       "      <td>Average</td>\n",
       "      <td>High</td>\n",
       "      <td>Poor</td>\n",
       "      <td>Moderate</td>\n",
       "      <td>Single</td>\n",
       "      <td>Never</td>\n",
       "      <td>Never</td>\n",
       "      <td>No</td>\n",
       "      <td>Yes</td>\n",
       "      <td>4</td>\n",
       "      <td>Moderate</td>\n",
       "      <td>18</td>\n",
       "      <td>Off-Campus</td>\n",
       "    </tr>\n",
       "  </tbody>\n",
       "</table>\n",
       "<p>6995 rows × 20 columns</p>\n",
       "</div>"
      ],
      "text/plain": [
       "      Age       Course  Gender  CGPA  Stress_Level  Depression_Score  \\\n",
       "0      25       Others    Male  3.56             3                 3   \n",
       "1      24  Engineering  Female  2.44             0                 3   \n",
       "2      19     Business  Female  3.74             4                 0   \n",
       "3      18     Business    Male  3.40             3                 3   \n",
       "4      21      Medical  Female  3.35             2                 4   \n",
       "...   ...          ...     ...   ...           ...               ...   \n",
       "6990   20          Law  Female  3.33             1                 1   \n",
       "6991   20          Law  Female  3.69             3                 1   \n",
       "6992   24      Medical  Female  3.73             3                 4   \n",
       "6993   26       Others    Male  3.65             4                 5   \n",
       "6994   24      Medical    Male  3.65             4                 3   \n",
       "\n",
       "      Anxiety_Score Sleep_Quality Physical_Activity Diet_Quality  \\\n",
       "0                 2          Good          Moderate         Good   \n",
       "1                 0       Average               Low      Average   \n",
       "2                 3          Good               Low      Average   \n",
       "3                 4          Good               Low      Average   \n",
       "4                 3          Good          Moderate         Good   \n",
       "...             ...           ...               ...          ...   \n",
       "6990              1       Average               Low      Average   \n",
       "6991              5          Good               Low         Poor   \n",
       "6992              1          Good          Moderate      Average   \n",
       "6993              1          Good              High         Poor   \n",
       "6994              4       Average              High         Poor   \n",
       "\n",
       "     Social_Support Relationship_Status Substance_Use Counseling_Service_Use  \\\n",
       "0          Moderate             Married         Never                  Never   \n",
       "1               Low              Single  Occasionally           Occasionally   \n",
       "2          Moderate   In a Relationship         Never           Occasionally   \n",
       "3              High             Married         Never                  Never   \n",
       "4              High              Single         Never                  Never   \n",
       "...             ...                 ...           ...                    ...   \n",
       "6990       Moderate   In a Relationship         Never           Occasionally   \n",
       "6991           High              Single         Never             Frequently   \n",
       "6992           High              Single         Never           Occasionally   \n",
       "6993       Moderate             Married         Never           Occasionally   \n",
       "6994       Moderate              Single         Never                  Never   \n",
       "\n",
       "     Family_History Chronic_Illness  Financial_Stress  \\\n",
       "0                No              No                 2   \n",
       "1                No              No                 3   \n",
       "2                No              No                 4   \n",
       "3                No             Yes                 0   \n",
       "4                No              No                 5   \n",
       "...             ...             ...               ...   \n",
       "6990             No              No                 3   \n",
       "6991            Yes              No                 1   \n",
       "6992             No              No                 3   \n",
       "6993             No             Yes                 4   \n",
       "6994             No             Yes                 4   \n",
       "\n",
       "     Extracurricular_Involvement  Semester_Credit_Load Residence_Type  \n",
       "0                       Moderate                    17      On-Campus  \n",
       "1                            Low                    27      On-Campus  \n",
       "2                           High                    15      On-Campus  \n",
       "3                           High                    23      On-Campus  \n",
       "4                       Moderate                    19     Off-Campus  \n",
       "...                          ...                   ...            ...  \n",
       "6990                    Moderate                    29     Off-Campus  \n",
       "6991                        High                    26     Off-Campus  \n",
       "6992                         Low                    15     Off-Campus  \n",
       "6993                    Moderate                    17     Off-Campus  \n",
       "6994                    Moderate                    18     Off-Campus  \n",
       "\n",
       "[6995 rows x 20 columns]"
      ]
     },
     "execution_count": 8,
     "metadata": {},
     "output_type": "execute_result"
    }
   ],
   "source": [
    "df"
   ]
  },
  {
   "cell_type": "code",
   "execution_count": 9,
   "metadata": {},
   "outputs": [
    {
     "name": "stdout",
     "output_type": "stream",
     "text": [
      "<class 'pandas.core.frame.DataFrame'>\n",
      "RangeIndex: 6995 entries, 0 to 6994\n",
      "Data columns (total 20 columns):\n",
      " #   Column                       Non-Null Count  Dtype  \n",
      "---  ------                       --------------  -----  \n",
      " 0   Age                          6995 non-null   int64  \n",
      " 1   Course                       6995 non-null   object \n",
      " 2   Gender                       6995 non-null   object \n",
      " 3   CGPA                         6995 non-null   float64\n",
      " 4   Stress_Level                 6995 non-null   int64  \n",
      " 5   Depression_Score             6995 non-null   int64  \n",
      " 6   Anxiety_Score                6995 non-null   int64  \n",
      " 7   Sleep_Quality                6995 non-null   object \n",
      " 8   Physical_Activity            6995 non-null   object \n",
      " 9   Diet_Quality                 6995 non-null   object \n",
      " 10  Social_Support               6995 non-null   object \n",
      " 11  Relationship_Status          6995 non-null   object \n",
      " 12  Substance_Use                6995 non-null   object \n",
      " 13  Counseling_Service_Use       6995 non-null   object \n",
      " 14  Family_History               6995 non-null   object \n",
      " 15  Chronic_Illness              6995 non-null   object \n",
      " 16  Financial_Stress             6995 non-null   int64  \n",
      " 17  Extracurricular_Involvement  6995 non-null   object \n",
      " 18  Semester_Credit_Load         6995 non-null   int64  \n",
      " 19  Residence_Type               6995 non-null   object \n",
      "dtypes: float64(1), int64(6), object(13)\n",
      "memory usage: 1.1+ MB\n"
     ]
    }
   ],
   "source": [
    "df.info()"
   ]
  },
  {
   "cell_type": "code",
   "execution_count": 10,
   "metadata": {},
   "outputs": [
    {
     "data": {
      "text/plain": [
       "Good       3579\n",
       "Average    2721\n",
       "Poor        695\n",
       "Name: Sleep_Quality, dtype: int64"
      ]
     },
     "execution_count": 10,
     "metadata": {},
     "output_type": "execute_result"
    }
   ],
   "source": [
    "df['Sleep_Quality'].value_counts()"
   ]
  },
  {
   "cell_type": "code",
   "execution_count": 11,
   "metadata": {},
   "outputs": [
    {
     "data": {
      "text/plain": [
       "Moderate    3505\n",
       "Low         2085\n",
       "High        1405\n",
       "Name: Physical_Activity, dtype: int64"
      ]
     },
     "execution_count": 11,
     "metadata": {},
     "output_type": "execute_result"
    }
   ],
   "source": [
    "df['Physical_Activity'].value_counts()"
   ]
  },
  {
   "cell_type": "code",
   "execution_count": 12,
   "metadata": {},
   "outputs": [
    {
     "data": {
      "text/plain": [
       "Average    4253\n",
       "Good       1379\n",
       "Poor       1363\n",
       "Name: Diet_Quality, dtype: int64"
      ]
     },
     "execution_count": 12,
     "metadata": {},
     "output_type": "execute_result"
    }
   ],
   "source": [
    "df['Diet_Quality'].value_counts()"
   ]
  },
  {
   "cell_type": "code",
   "execution_count": 13,
   "metadata": {},
   "outputs": [
    {
     "data": {
      "text/plain": [
       "Moderate    3457\n",
       "High        2165\n",
       "Low         1373\n",
       "Name: Social_Support, dtype: int64"
      ]
     },
     "execution_count": 13,
     "metadata": {},
     "output_type": "execute_result"
    }
   ],
   "source": [
    "df['Social_Support'].value_counts()"
   ]
  },
  {
   "cell_type": "code",
   "execution_count": 14,
   "metadata": {},
   "outputs": [
    {
     "data": {
      "text/plain": [
       "Single               3562\n",
       "In a Relationship    2069\n",
       "Married              1364\n",
       "Name: Relationship_Status, dtype: int64"
      ]
     },
     "execution_count": 14,
     "metadata": {},
     "output_type": "execute_result"
    }
   ],
   "source": [
    "df['Relationship_Status'].value_counts()"
   ]
  },
  {
   "cell_type": "code",
   "execution_count": 15,
   "metadata": {},
   "outputs": [
    {
     "data": {
      "text/plain": [
       "Never           5894\n",
       "Occasionally     697\n",
       "Frequently       404\n",
       "Name: Substance_Use, dtype: int64"
      ]
     },
     "execution_count": 15,
     "metadata": {},
     "output_type": "execute_result"
    }
   ],
   "source": [
    "df['Substance_Use'].value_counts()"
   ]
  },
  {
   "cell_type": "code",
   "execution_count": 16,
   "metadata": {},
   "outputs": [
    {
     "data": {
      "text/plain": [
       "Never           4250\n",
       "Occasionally    2069\n",
       "Frequently       676\n",
       "Name: Counseling_Service_Use, dtype: int64"
      ]
     },
     "execution_count": 16,
     "metadata": {},
     "output_type": "execute_result"
    }
   ],
   "source": [
    "df['Counseling_Service_Use'].value_counts()"
   ]
  },
  {
   "cell_type": "code",
   "execution_count": 17,
   "metadata": {},
   "outputs": [
    {
     "data": {
      "text/plain": [
       "No     4844\n",
       "Yes    2151\n",
       "Name: Family_History, dtype: int64"
      ]
     },
     "execution_count": 17,
     "metadata": {},
     "output_type": "execute_result"
    }
   ],
   "source": [
    "df['Family_History'].value_counts()"
   ]
  },
  {
   "cell_type": "code",
   "execution_count": 18,
   "metadata": {},
   "outputs": [
    {
     "data": {
      "text/plain": [
       "No     6652\n",
       "Yes     343\n",
       "Name: Chronic_Illness, dtype: int64"
      ]
     },
     "execution_count": 18,
     "metadata": {},
     "output_type": "execute_result"
    }
   ],
   "source": [
    "df['Chronic_Illness'].value_counts()"
   ]
  },
  {
   "cell_type": "code",
   "execution_count": 19,
   "metadata": {},
   "outputs": [
    {
     "data": {
      "text/plain": [
       "0    1225\n",
       "1    1181\n",
       "2    1168\n",
       "4    1156\n",
       "3    1152\n",
       "5    1113\n",
       "Name: Financial_Stress, dtype: int64"
      ]
     },
     "execution_count": 19,
     "metadata": {},
     "output_type": "execute_result"
    }
   ],
   "source": [
    "df['Financial_Stress'].value_counts()"
   ]
  },
  {
   "cell_type": "code",
   "execution_count": 20,
   "metadata": {},
   "outputs": [
    {
     "data": {
      "text/plain": [
       "Moderate    3426\n",
       "Low         2157\n",
       "High        1412\n",
       "Name: Extracurricular_Involvement, dtype: int64"
      ]
     },
     "execution_count": 20,
     "metadata": {},
     "output_type": "execute_result"
    }
   ],
   "source": [
    "df['Extracurricular_Involvement'].value_counts()"
   ]
  },
  {
   "cell_type": "code",
   "execution_count": 21,
   "metadata": {},
   "outputs": [
    {
     "data": {
      "text/plain": [
       "27    511\n",
       "17    506\n",
       "28    490\n",
       "15    471\n",
       "18    467\n",
       "19    466\n",
       "16    465\n",
       "24    463\n",
       "29    460\n",
       "25    458\n",
       "26    455\n",
       "22    455\n",
       "23    446\n",
       "21    443\n",
       "20    439\n",
       "Name: Semester_Credit_Load, dtype: int64"
      ]
     },
     "execution_count": 21,
     "metadata": {},
     "output_type": "execute_result"
    }
   ],
   "source": [
    "df['Semester_Credit_Load'].value_counts()"
   ]
  },
  {
   "cell_type": "code",
   "execution_count": 22,
   "metadata": {},
   "outputs": [
    {
     "data": {
      "text/plain": [
       "21    776\n",
       "18    735\n",
       "20    721\n",
       "19    708\n",
       "22    690\n",
       "23    637\n",
       "24    537\n",
       "26    454\n",
       "25    454\n",
       "27    323\n",
       "28    257\n",
       "29    188\n",
       "30    162\n",
       "31    124\n",
       "32     98\n",
       "33     55\n",
       "34     45\n",
       "35     31\n",
       "Name: Age, dtype: int64"
      ]
     },
     "execution_count": 22,
     "metadata": {},
     "output_type": "execute_result"
    }
   ],
   "source": [
    "df['Age'].value_counts()"
   ]
  },
  {
   "cell_type": "code",
   "execution_count": 23,
   "metadata": {},
   "outputs": [
    {
     "name": "stdout",
     "output_type": "stream",
     "text": [
      "<class 'pandas.core.frame.DataFrame'>\n",
      "RangeIndex: 6995 entries, 0 to 6994\n",
      "Data columns (total 20 columns):\n",
      " #   Column                       Non-Null Count  Dtype  \n",
      "---  ------                       --------------  -----  \n",
      " 0   Age                          6995 non-null   int64  \n",
      " 1   Course                       6995 non-null   object \n",
      " 2   Gender                       6995 non-null   object \n",
      " 3   CGPA                         6995 non-null   float64\n",
      " 4   Stress_Level                 6995 non-null   int64  \n",
      " 5   Depression_Score             6995 non-null   int64  \n",
      " 6   Anxiety_Score                6995 non-null   int64  \n",
      " 7   Sleep_Quality                6995 non-null   object \n",
      " 8   Physical_Activity            6995 non-null   object \n",
      " 9   Diet_Quality                 6995 non-null   object \n",
      " 10  Social_Support               6995 non-null   object \n",
      " 11  Relationship_Status          6995 non-null   object \n",
      " 12  Substance_Use                6995 non-null   object \n",
      " 13  Counseling_Service_Use       6995 non-null   object \n",
      " 14  Family_History               6995 non-null   object \n",
      " 15  Chronic_Illness              6995 non-null   object \n",
      " 16  Financial_Stress             6995 non-null   int64  \n",
      " 17  Extracurricular_Involvement  6995 non-null   object \n",
      " 18  Semester_Credit_Load         6995 non-null   int64  \n",
      " 19  Residence_Type               6995 non-null   object \n",
      "dtypes: float64(1), int64(6), object(13)\n",
      "memory usage: 1.1+ MB\n"
     ]
    }
   ],
   "source": [
    "df.info()"
   ]
  },
  {
   "cell_type": "code",
   "execution_count": 24,
   "metadata": {},
   "outputs": [
    {
     "data": {
      "text/plain": [
       "0    1225\n",
       "1    1181\n",
       "2    1168\n",
       "4    1156\n",
       "3    1152\n",
       "5    1113\n",
       "Name: Financial_Stress, dtype: int64"
      ]
     },
     "execution_count": 24,
     "metadata": {},
     "output_type": "execute_result"
    }
   ],
   "source": [
    "df['Financial_Stress'].value_counts()"
   ]
  },
  {
   "cell_type": "code",
   "execution_count": 25,
   "metadata": {},
   "outputs": [
    {
     "data": {
      "text/plain": [
       "3    1385\n",
       "1    1303\n",
       "2    1300\n",
       "0    1288\n",
       "4     878\n",
       "5     841\n",
       "Name: Depression_Score, dtype: int64"
      ]
     },
     "execution_count": 25,
     "metadata": {},
     "output_type": "execute_result"
    }
   ],
   "source": [
    "df['Depression_Score'].value_counts()"
   ]
  },
  {
   "cell_type": "code",
   "execution_count": 26,
   "metadata": {},
   "outputs": [
    {
     "data": {
      "text/plain": [
       "(6995, 20)"
      ]
     },
     "execution_count": 26,
     "metadata": {},
     "output_type": "execute_result"
    }
   ],
   "source": [
    "df.shape"
   ]
  },
  {
   "cell_type": "markdown",
   "metadata": {},
   "source": [
    "## Data Preparation"
   ]
  },
  {
   "cell_type": "markdown",
   "metadata": {},
   "source": [
    "### Preprocessing Data"
   ]
  },
  {
   "cell_type": "code",
   "execution_count": 27,
   "metadata": {},
   "outputs": [],
   "source": [
    "# Defining columns for scaling, one hot encoding, and ordinal encoding\n",
    "continuous_cols = ['Age', 'Semester_Credit_Load', 'CGPA']\n",
    "ohe_cols = ['Course', 'Gender', 'Relationship_Status', 'Family_History', 'Residence_Type', 'Chronic_Illness']\n",
    "ordinal_cols = ['Sleep_Quality', 'Physical_Activity', 'Diet_Quality', 'Social_Support', 'Substance_Use', \n",
    "               'Counseling_Service_Use', 'Extracurricular_Involvement']\n",
    "\n",
    "# Ordering Ordinal Column Entries\n",
    "sleep_ord = ['Poor', 'Average', 'Good']\n",
    "phys_ord = ['Low', 'Moderate', 'High']\n",
    "diet_ord = ['Poor', 'Average', 'Good']\n",
    "social_ord = ['Low', 'Moderate', 'High']\n",
    "subst_ord = ['Never', 'Occasionally', 'Frequently']\n",
    "counsel_ord = ['Never', 'Occasionally', 'Frequently']\n",
    "extracurric_ord = ['Low', 'Moderate', 'High']\n",
    "\n",
    "# Create a column transformer for preprocessing\n",
    "preprocessor = ColumnTransformer(remainder='passthrough',\n",
    "    transformers=[\n",
    "        ('num', StandardScaler(), continuous_cols),  \n",
    "        ('ohe', OneHotEncoder(handle_unknown='ignore'), ohe_cols),\n",
    "        ('ord', OrdinalEncoder(categories=[sleep_ord, phys_ord, diet_ord, \n",
    "                                           social_ord, subst_ord, counsel_ord, extracurric_ord]), \n",
    "         ordinal_cols)])"
   ]
  },
  {
   "cell_type": "code",
   "execution_count": 28,
   "metadata": {},
   "outputs": [],
   "source": [
    "df.loc[df['Depression_Score'] >= 3, 'Depression_Binary'] = 'Yes'\n",
    "df.loc[df['Depression_Score'] < 3, 'Depression_Binary'] = 'No'\n",
    "df.drop('Depression_Score', axis=1, inplace=True)"
   ]
  },
  {
   "cell_type": "markdown",
   "metadata": {},
   "source": [
    "### Train_Test_Split"
   ]
  },
  {
   "cell_type": "code",
   "execution_count": 29,
   "metadata": {},
   "outputs": [],
   "source": [
    "y = df.pop('Depression_Binary')\n",
    "X = df\n",
    "\n",
    "X_train, X_test, y_train, y_test = train_test_split(X, y, random_state=333)"
   ]
  },
  {
   "cell_type": "code",
   "execution_count": 30,
   "metadata": {},
   "outputs": [
    {
     "data": {
      "text/html": [
       "<div>\n",
       "<style scoped>\n",
       "    .dataframe tbody tr th:only-of-type {\n",
       "        vertical-align: middle;\n",
       "    }\n",
       "\n",
       "    .dataframe tbody tr th {\n",
       "        vertical-align: top;\n",
       "    }\n",
       "\n",
       "    .dataframe thead th {\n",
       "        text-align: right;\n",
       "    }\n",
       "</style>\n",
       "<table border=\"1\" class=\"dataframe\">\n",
       "  <thead>\n",
       "    <tr style=\"text-align: right;\">\n",
       "      <th></th>\n",
       "      <th>Age</th>\n",
       "      <th>Course</th>\n",
       "      <th>Gender</th>\n",
       "      <th>CGPA</th>\n",
       "      <th>Stress_Level</th>\n",
       "      <th>Anxiety_Score</th>\n",
       "      <th>Sleep_Quality</th>\n",
       "      <th>Physical_Activity</th>\n",
       "      <th>Diet_Quality</th>\n",
       "      <th>Social_Support</th>\n",
       "      <th>Relationship_Status</th>\n",
       "      <th>Substance_Use</th>\n",
       "      <th>Counseling_Service_Use</th>\n",
       "      <th>Family_History</th>\n",
       "      <th>Chronic_Illness</th>\n",
       "      <th>Financial_Stress</th>\n",
       "      <th>Extracurricular_Involvement</th>\n",
       "      <th>Semester_Credit_Load</th>\n",
       "      <th>Residence_Type</th>\n",
       "    </tr>\n",
       "  </thead>\n",
       "  <tbody>\n",
       "    <tr>\n",
       "      <th>4575</th>\n",
       "      <td>21</td>\n",
       "      <td>Engineering</td>\n",
       "      <td>Female</td>\n",
       "      <td>3.08</td>\n",
       "      <td>0</td>\n",
       "      <td>3</td>\n",
       "      <td>Good</td>\n",
       "      <td>Low</td>\n",
       "      <td>Good</td>\n",
       "      <td>High</td>\n",
       "      <td>Married</td>\n",
       "      <td>Never</td>\n",
       "      <td>Never</td>\n",
       "      <td>Yes</td>\n",
       "      <td>No</td>\n",
       "      <td>1</td>\n",
       "      <td>High</td>\n",
       "      <td>17</td>\n",
       "      <td>With Family</td>\n",
       "    </tr>\n",
       "    <tr>\n",
       "      <th>109</th>\n",
       "      <td>23</td>\n",
       "      <td>Engineering</td>\n",
       "      <td>Female</td>\n",
       "      <td>3.10</td>\n",
       "      <td>0</td>\n",
       "      <td>0</td>\n",
       "      <td>Good</td>\n",
       "      <td>High</td>\n",
       "      <td>Good</td>\n",
       "      <td>High</td>\n",
       "      <td>Married</td>\n",
       "      <td>Never</td>\n",
       "      <td>Never</td>\n",
       "      <td>No</td>\n",
       "      <td>No</td>\n",
       "      <td>0</td>\n",
       "      <td>Moderate</td>\n",
       "      <td>16</td>\n",
       "      <td>On-Campus</td>\n",
       "    </tr>\n",
       "    <tr>\n",
       "      <th>302</th>\n",
       "      <td>22</td>\n",
       "      <td>Business</td>\n",
       "      <td>Female</td>\n",
       "      <td>3.65</td>\n",
       "      <td>2</td>\n",
       "      <td>2</td>\n",
       "      <td>Good</td>\n",
       "      <td>Moderate</td>\n",
       "      <td>Poor</td>\n",
       "      <td>Moderate</td>\n",
       "      <td>Single</td>\n",
       "      <td>Never</td>\n",
       "      <td>Never</td>\n",
       "      <td>No</td>\n",
       "      <td>No</td>\n",
       "      <td>4</td>\n",
       "      <td>Moderate</td>\n",
       "      <td>20</td>\n",
       "      <td>Off-Campus</td>\n",
       "    </tr>\n",
       "    <tr>\n",
       "      <th>4528</th>\n",
       "      <td>24</td>\n",
       "      <td>Engineering</td>\n",
       "      <td>Male</td>\n",
       "      <td>3.44</td>\n",
       "      <td>5</td>\n",
       "      <td>3</td>\n",
       "      <td>Average</td>\n",
       "      <td>Moderate</td>\n",
       "      <td>Average</td>\n",
       "      <td>Low</td>\n",
       "      <td>In a Relationship</td>\n",
       "      <td>Never</td>\n",
       "      <td>Never</td>\n",
       "      <td>No</td>\n",
       "      <td>No</td>\n",
       "      <td>5</td>\n",
       "      <td>Moderate</td>\n",
       "      <td>29</td>\n",
       "      <td>Off-Campus</td>\n",
       "    </tr>\n",
       "    <tr>\n",
       "      <th>4380</th>\n",
       "      <td>26</td>\n",
       "      <td>Law</td>\n",
       "      <td>Male</td>\n",
       "      <td>3.36</td>\n",
       "      <td>1</td>\n",
       "      <td>0</td>\n",
       "      <td>Poor</td>\n",
       "      <td>Moderate</td>\n",
       "      <td>Average</td>\n",
       "      <td>Moderate</td>\n",
       "      <td>Single</td>\n",
       "      <td>Never</td>\n",
       "      <td>Never</td>\n",
       "      <td>Yes</td>\n",
       "      <td>No</td>\n",
       "      <td>0</td>\n",
       "      <td>Low</td>\n",
       "      <td>28</td>\n",
       "      <td>On-Campus</td>\n",
       "    </tr>\n",
       "    <tr>\n",
       "      <th>...</th>\n",
       "      <td>...</td>\n",
       "      <td>...</td>\n",
       "      <td>...</td>\n",
       "      <td>...</td>\n",
       "      <td>...</td>\n",
       "      <td>...</td>\n",
       "      <td>...</td>\n",
       "      <td>...</td>\n",
       "      <td>...</td>\n",
       "      <td>...</td>\n",
       "      <td>...</td>\n",
       "      <td>...</td>\n",
       "      <td>...</td>\n",
       "      <td>...</td>\n",
       "      <td>...</td>\n",
       "      <td>...</td>\n",
       "      <td>...</td>\n",
       "      <td>...</td>\n",
       "      <td>...</td>\n",
       "    </tr>\n",
       "    <tr>\n",
       "      <th>5494</th>\n",
       "      <td>22</td>\n",
       "      <td>Medical</td>\n",
       "      <td>Female</td>\n",
       "      <td>3.07</td>\n",
       "      <td>1</td>\n",
       "      <td>5</td>\n",
       "      <td>Average</td>\n",
       "      <td>Low</td>\n",
       "      <td>Average</td>\n",
       "      <td>High</td>\n",
       "      <td>Single</td>\n",
       "      <td>Never</td>\n",
       "      <td>Never</td>\n",
       "      <td>No</td>\n",
       "      <td>No</td>\n",
       "      <td>5</td>\n",
       "      <td>Moderate</td>\n",
       "      <td>19</td>\n",
       "      <td>With Family</td>\n",
       "    </tr>\n",
       "    <tr>\n",
       "      <th>6067</th>\n",
       "      <td>25</td>\n",
       "      <td>Business</td>\n",
       "      <td>Female</td>\n",
       "      <td>3.63</td>\n",
       "      <td>1</td>\n",
       "      <td>3</td>\n",
       "      <td>Good</td>\n",
       "      <td>Low</td>\n",
       "      <td>Average</td>\n",
       "      <td>Low</td>\n",
       "      <td>Single</td>\n",
       "      <td>Never</td>\n",
       "      <td>Never</td>\n",
       "      <td>Yes</td>\n",
       "      <td>No</td>\n",
       "      <td>1</td>\n",
       "      <td>Moderate</td>\n",
       "      <td>16</td>\n",
       "      <td>Off-Campus</td>\n",
       "    </tr>\n",
       "    <tr>\n",
       "      <th>1443</th>\n",
       "      <td>25</td>\n",
       "      <td>Law</td>\n",
       "      <td>Male</td>\n",
       "      <td>3.25</td>\n",
       "      <td>2</td>\n",
       "      <td>5</td>\n",
       "      <td>Good</td>\n",
       "      <td>Low</td>\n",
       "      <td>Average</td>\n",
       "      <td>Moderate</td>\n",
       "      <td>Single</td>\n",
       "      <td>Never</td>\n",
       "      <td>Occasionally</td>\n",
       "      <td>Yes</td>\n",
       "      <td>Yes</td>\n",
       "      <td>5</td>\n",
       "      <td>Low</td>\n",
       "      <td>17</td>\n",
       "      <td>On-Campus</td>\n",
       "    </tr>\n",
       "    <tr>\n",
       "      <th>973</th>\n",
       "      <td>23</td>\n",
       "      <td>Engineering</td>\n",
       "      <td>Female</td>\n",
       "      <td>3.73</td>\n",
       "      <td>2</td>\n",
       "      <td>3</td>\n",
       "      <td>Average</td>\n",
       "      <td>Moderate</td>\n",
       "      <td>Poor</td>\n",
       "      <td>Low</td>\n",
       "      <td>Married</td>\n",
       "      <td>Never</td>\n",
       "      <td>Never</td>\n",
       "      <td>Yes</td>\n",
       "      <td>No</td>\n",
       "      <td>4</td>\n",
       "      <td>Low</td>\n",
       "      <td>22</td>\n",
       "      <td>With Family</td>\n",
       "    </tr>\n",
       "    <tr>\n",
       "      <th>5900</th>\n",
       "      <td>22</td>\n",
       "      <td>Medical</td>\n",
       "      <td>Female</td>\n",
       "      <td>3.31</td>\n",
       "      <td>5</td>\n",
       "      <td>3</td>\n",
       "      <td>Average</td>\n",
       "      <td>Moderate</td>\n",
       "      <td>Good</td>\n",
       "      <td>Moderate</td>\n",
       "      <td>Single</td>\n",
       "      <td>Never</td>\n",
       "      <td>Occasionally</td>\n",
       "      <td>No</td>\n",
       "      <td>Yes</td>\n",
       "      <td>4</td>\n",
       "      <td>Low</td>\n",
       "      <td>22</td>\n",
       "      <td>With Family</td>\n",
       "    </tr>\n",
       "  </tbody>\n",
       "</table>\n",
       "<p>5246 rows × 19 columns</p>\n",
       "</div>"
      ],
      "text/plain": [
       "      Age       Course  Gender  CGPA  Stress_Level  Anxiety_Score  \\\n",
       "4575   21  Engineering  Female  3.08             0              3   \n",
       "109    23  Engineering  Female  3.10             0              0   \n",
       "302    22     Business  Female  3.65             2              2   \n",
       "4528   24  Engineering    Male  3.44             5              3   \n",
       "4380   26          Law    Male  3.36             1              0   \n",
       "...   ...          ...     ...   ...           ...            ...   \n",
       "5494   22      Medical  Female  3.07             1              5   \n",
       "6067   25     Business  Female  3.63             1              3   \n",
       "1443   25          Law    Male  3.25             2              5   \n",
       "973    23  Engineering  Female  3.73             2              3   \n",
       "5900   22      Medical  Female  3.31             5              3   \n",
       "\n",
       "     Sleep_Quality Physical_Activity Diet_Quality Social_Support  \\\n",
       "4575          Good               Low         Good           High   \n",
       "109           Good              High         Good           High   \n",
       "302           Good          Moderate         Poor       Moderate   \n",
       "4528       Average          Moderate      Average            Low   \n",
       "4380          Poor          Moderate      Average       Moderate   \n",
       "...            ...               ...          ...            ...   \n",
       "5494       Average               Low      Average           High   \n",
       "6067          Good               Low      Average            Low   \n",
       "1443          Good               Low      Average       Moderate   \n",
       "973        Average          Moderate         Poor            Low   \n",
       "5900       Average          Moderate         Good       Moderate   \n",
       "\n",
       "     Relationship_Status Substance_Use Counseling_Service_Use Family_History  \\\n",
       "4575             Married         Never                  Never            Yes   \n",
       "109              Married         Never                  Never             No   \n",
       "302               Single         Never                  Never             No   \n",
       "4528   In a Relationship         Never                  Never             No   \n",
       "4380              Single         Never                  Never            Yes   \n",
       "...                  ...           ...                    ...            ...   \n",
       "5494              Single         Never                  Never             No   \n",
       "6067              Single         Never                  Never            Yes   \n",
       "1443              Single         Never           Occasionally            Yes   \n",
       "973              Married         Never                  Never            Yes   \n",
       "5900              Single         Never           Occasionally             No   \n",
       "\n",
       "     Chronic_Illness  Financial_Stress Extracurricular_Involvement  \\\n",
       "4575              No                 1                        High   \n",
       "109               No                 0                    Moderate   \n",
       "302               No                 4                    Moderate   \n",
       "4528              No                 5                    Moderate   \n",
       "4380              No                 0                         Low   \n",
       "...              ...               ...                         ...   \n",
       "5494              No                 5                    Moderate   \n",
       "6067              No                 1                    Moderate   \n",
       "1443             Yes                 5                         Low   \n",
       "973               No                 4                         Low   \n",
       "5900             Yes                 4                         Low   \n",
       "\n",
       "      Semester_Credit_Load Residence_Type  \n",
       "4575                    17    With Family  \n",
       "109                     16      On-Campus  \n",
       "302                     20     Off-Campus  \n",
       "4528                    29     Off-Campus  \n",
       "4380                    28      On-Campus  \n",
       "...                    ...            ...  \n",
       "5494                    19    With Family  \n",
       "6067                    16     Off-Campus  \n",
       "1443                    17      On-Campus  \n",
       "973                     22    With Family  \n",
       "5900                    22    With Family  \n",
       "\n",
       "[5246 rows x 19 columns]"
      ]
     },
     "execution_count": 30,
     "metadata": {},
     "output_type": "execute_result"
    }
   ],
   "source": [
    "X_train"
   ]
  },
  {
   "cell_type": "code",
   "execution_count": 31,
   "metadata": {},
   "outputs": [
    {
     "data": {
      "text/plain": [
       "No     2940\n",
       "Yes    2306\n",
       "Name: Depression_Binary, dtype: int64"
      ]
     },
     "execution_count": 31,
     "metadata": {},
     "output_type": "execute_result"
    }
   ],
   "source": [
    "y_train.value_counts()"
   ]
  },
  {
   "cell_type": "markdown",
   "metadata": {},
   "source": [
    "## Modeling"
   ]
  },
  {
   "cell_type": "markdown",
   "metadata": {},
   "source": [
    "## Evaluation"
   ]
  },
  {
   "cell_type": "code",
   "execution_count": 32,
   "metadata": {},
   "outputs": [],
   "source": [
    "# Defining scorers to evaluate models\n",
    "recall_scorer = make_scorer(recall_score, pos_label='Yes')\n",
    "f1_scorer = make_scorer(f1_score, pos_label='Yes')"
   ]
  },
  {
   "cell_type": "code",
   "execution_count": 33,
   "metadata": {},
   "outputs": [],
   "source": [
    "def initial_scores(model):\n",
    "       \n",
    "    # Defining the predictions from the Pipeline using the training data\n",
    "    y_pred = model.predict(X_train)\n",
    "    \n",
    "    # Evaluating the accuracy score on the training data\n",
    "    print('Train Recall: ', recall_score(y_train, y_pred, pos_label='Yes'))\n",
    "#     print('Train F1: ', f1_score(y_train, y_pred, pos_label='Yes'))\n",
    "    print('Train Accuracy: ', accuracy_score(y_train, y_pred))\n",
    "    \n",
    "    # Creating confusion matrix\n",
    "    cf = confusion_matrix(y_train, y_pred)\n",
    "    # Displaying confusion matrix\n",
    "    ConfusionMatrixDisplay(cf, display_labels=['No', 'Yes']).plot()"
   ]
  },
  {
   "cell_type": "code",
   "execution_count": 34,
   "metadata": {},
   "outputs": [],
   "source": [
    "def cv_scores(model):\n",
    "        \n",
    "    # Defining the predictions from the Pipeline using the training data\n",
    "    y_pred = model.predict(X_train)\n",
    "    \n",
    "    # Evaluating the scores \n",
    "    print('Train Recall: ', recall_score(y_train, y_pred, pos_label='Yes'))\n",
    "    print('CV Recall: ', cross_val_score(model, X_train, y_train, scoring=recall_scorer, n_jobs=3).mean())\n",
    "\n",
    "#     print('')\n",
    "#     print('Train F1: ', f1_score(y_train, y_pred, pos_label='Yes'))\n",
    "#     print('CV F1: ', cross_val_score(model, X_train, y_train, scoring=f1_scorer).mean())\n",
    "   \n",
    "    print('')\n",
    "    print('Train Accuracy: ', accuracy_score(y_train, y_pred))\n",
    "    print('CV Accuracy: ', cross_val_score(model, X_train, y_train, n_jobs=3).mean())\n",
    "    \n",
    "    \n",
    "    # Creating confusion matrix\n",
    "    cf = confusion_matrix(y_train, y_pred)\n",
    "    # Displaying confusion matrix\n",
    "    ConfusionMatrixDisplay(cf, display_labels=['No', 'Yes']).plot()"
   ]
  },
  {
   "cell_type": "code",
   "execution_count": 35,
   "metadata": {},
   "outputs": [],
   "source": [
    "def grid_results(model):\n",
    "    print(\"Recall\")\n",
    "    print(model)\n",
    "#     print(model.best_score_)\n",
    "    print('')\n",
    "    \n",
    "    # Defining the predictions from the Pipeline using the training data\n",
    "    y_pred = model.predict(X_train)\n",
    "    \n",
    "    # Evaluating the scores \n",
    "    print('Best Estimator Scores:')\n",
    "    print('Train Recall: ', recall_score(y_train, y_pred, pos_label='Yes'))\n",
    "    print('CV Recall: ', cross_val_score(model, X_train, y_train, scoring=recall_scorer, n_jobs=3).mean())\n",
    "    \n",
    "#     print('')\n",
    "#     print('Train F1: ', f1_score(y_train, y_pred, pos_label='Yes'))\n",
    "#     print('CV F1: ', cross_val_score(model, X_train, y_train, scoring=f1_scorer).mean())\n",
    "    \n",
    "    print('')\n",
    "    print('Train Accuracy: ', accuracy_score(y_train, y_pred))\n",
    "    print('CV Accuracy: ', cross_val_score(model, X_train, y_train, n_jobs=3).mean())\n",
    "   \n",
    "    print('')\n",
    "    print('Best Estimator Confusion Matrix on Training Data with no CV')\n",
    "    # Creating confusion matrix\n",
    "    cf = confusion_matrix(y_train, y_pred)\n",
    "    # Displaying confusion matrix\n",
    "    ConfusionMatrixDisplay(cf, display_labels=['No', 'Yes']).plot()"
   ]
  },
  {
   "cell_type": "markdown",
   "metadata": {},
   "source": [
    "### Dummy Model Classifier"
   ]
  },
  {
   "cell_type": "code",
   "execution_count": 36,
   "metadata": {},
   "outputs": [],
   "source": [
    "# # Instantiate dummy model that will always predict Yes\n",
    "# dummy_model = DummyClassifier(strategy=\"constant\", constant='Yes')\n",
    "# dummy_model.fit(X_train, y_train)\n",
    "\n",
    "# # Pickle the model\n",
    "# with open('../pickled_models/dummy_model.pkl', 'wb') as f:\n",
    "#     pickle.dump(dummy_model, f)"
   ]
  },
  {
   "cell_type": "code",
   "execution_count": 37,
   "metadata": {},
   "outputs": [],
   "source": [
    "# Load the pickled model\n",
    "with open('../pickled_models/dummy_model.pkl', 'rb') as f:\n",
    "    dummy_model = pickle.load(f)"
   ]
  },
  {
   "cell_type": "code",
   "execution_count": 38,
   "metadata": {},
   "outputs": [
    {
     "name": "stdout",
     "output_type": "stream",
     "text": [
      "Train Recall:  1.0\n",
      "CV Recall:  1.0\n",
      "\n",
      "Train Accuracy:  0.4395730080060999\n",
      "CV Accuracy:  0.43957292659675884\n"
     ]
    },
    {
     "data": {
      "image/png": "[encoded data removed]",
      "text/plain": [
       "<Figure size 432x288 with 2 Axes>"
      ]
     },
     "metadata": {
      "needs_background": "light"
     },
     "output_type": "display_data"
    }
   ],
   "source": [
    "# Cross Validation Scores\n",
    "cv_scores(dummy_model)"
   ]
  },
  {
   "cell_type": "markdown",
   "metadata": {},
   "source": [
    "### First Model: Decision Tree "
   ]
  },
  {
   "cell_type": "code",
   "execution_count": 39,
   "metadata": {},
   "outputs": [],
   "source": [
    "# # Creating steps for a Pipeline \n",
    "# tree_steps = [('preprocess', preprocessor),\n",
    "#               ('tree', DecisionTreeClassifier())]\n",
    "\n",
    "# # Feeding the Pipeline the steps defined above\n",
    "# tree_pipe = Pipeline(tree_steps)\n",
    "\n",
    "# # Fitting the training data to the Pipeline\n",
    "# tree_pipe.fit(X_train, y_train)\n",
    "\n",
    "# # Pickle the model\n",
    "# with open('../pickled_models/tree_pipe.pkl', 'wb') as f:\n",
    "#     pickle.dump(tree_pipe, f)"
   ]
  },
  {
   "cell_type": "code",
   "execution_count": 40,
   "metadata": {},
   "outputs": [],
   "source": [
    "# Load the pickled model\n",
    "with open('../pickled_models/tree_pipe.pkl', 'rb') as f:\n",
    "    tree_pipe = pickle.load(f)"
   ]
  },
  {
   "cell_type": "code",
   "execution_count": 41,
   "metadata": {},
   "outputs": [
    {
     "name": "stdout",
     "output_type": "stream",
     "text": [
      "Train Recall:  1.0\n",
      "CV Recall:  0.46356781324243357\n",
      "\n",
      "Train Accuracy:  1.0\n",
      "CV Accuracy:  0.5198278632711426\n"
     ]
    },
    {
     "data": {
      "image/png": "[encoded data removed]",
      "text/plain": [
       "<Figure size 432x288 with 2 Axes>"
      ]
     },
     "metadata": {
      "needs_background": "light"
     },
     "output_type": "display_data"
    }
   ],
   "source": [
    "# Cross Validation Scores\n",
    "cv_scores(tree_pipe)"
   ]
  },
  {
   "cell_type": "markdown",
   "metadata": {},
   "source": [
    "### Second Model: Random Forest"
   ]
  },
  {
   "cell_type": "code",
   "execution_count": 42,
   "metadata": {},
   "outputs": [],
   "source": [
    "# # Creating steps for a Pipeline \n",
    "# forest_steps = [('preprocess', preprocessor),\n",
    "#                 ('forest', RandomForestClassifier(random_state=333))]\n",
    "\n",
    "# # Feeding the Pipeline the steps defined above\n",
    "# forest_pipe = Pipeline(forest_steps)\n",
    "\n",
    "# # Fitting the training data to the Pipeline\n",
    "# forest_pipe.fit(X_train, y_train)\n",
    "\n",
    "# # # Pickle the model\n",
    "# with open('../pickled_models/forest_pipe.pkl', 'wb') as f:\n",
    "#     pickle.dump(forest_pipe, f)"
   ]
  },
  {
   "cell_type": "code",
   "execution_count": 43,
   "metadata": {},
   "outputs": [],
   "source": [
    "# Load the pickled model\n",
    "with open('../pickled_models/forest_pipe.pkl', 'rb') as f:\n",
    "    forest_pipe = pickle.load(f)"
   ]
  },
  {
   "cell_type": "code",
   "execution_count": 44,
   "metadata": {},
   "outputs": [
    {
     "name": "stdout",
     "output_type": "stream",
     "text": [
      "Train Recall:  1.0\n",
      "CV Recall:  0.30399188663830745\n",
      "\n",
      "Train Accuracy:  1.0\n",
      "CV Accuracy:  0.5947385718825184\n"
     ]
    },
    {
     "data": {
      "image/png": "[encoded data removed]",
      "text/plain": [
       "<Figure size 432x288 with 2 Axes>"
      ]
     },
     "metadata": {
      "needs_background": "light"
     },
     "output_type": "display_data"
    }
   ],
   "source": [
    "cv_scores(forest_pipe)"
   ]
  },
  {
   "cell_type": "markdown",
   "metadata": {},
   "source": [
    "#### Random Forest with GridSearch 1"
   ]
  },
  {
   "cell_type": "code",
   "execution_count": 45,
   "metadata": {
    "scrolled": true
   },
   "outputs": [],
   "source": [
    "# # Creating parameters for GridSearch\n",
    "# params = {'forest__n_estimators': [50, 100, 150],\n",
    "#           'forest__criterion': ['gini', 'entropy'],\n",
    "#           'forest__max_depth': [10, None],\n",
    "#           'forest__min_samples_split': [2],\n",
    "#           'forest__min_weight_fraction_leaf': [0, .5],\n",
    "#           'forest__max_features': ['auto', None, 15],\n",
    "#           'forest__max_leaf_nodes': [None, 10],\n",
    "#           'forest__min_impurity_decrease': [0, .5],\n",
    "#          }\n",
    "\n",
    "# # GridSearch with the random forest pipeline, parameters above, 5 fold cross validation, and accuracy score\n",
    "# forest_grid1 = GridSearchCV(estimator=forest_pipe, param_grid=params, cv=5, scoring=recall_scorer, n_jobs=3)\n",
    "\n",
    "# # Fitting the GridSearch\n",
    "# forest_grid1.fit(X_train, y_train)\n",
    "\n",
    "# # Pickle the model\n",
    "# with open('../pickled_models/forest_grid1_best.pkl', 'wb') as f:\n",
    "#     pickle.dump(forest_grid1.best_estimator_, f)"
   ]
  },
  {
   "cell_type": "code",
   "execution_count": 46,
   "metadata": {},
   "outputs": [],
   "source": [
    "# Load the pickled model\n",
    "with open('../pickled_models/forest_grid1_best.pkl', 'rb') as f:\n",
    "    forest_grid1_best = pickle.load(f)"
   ]
  },
  {
   "cell_type": "code",
   "execution_count": 47,
   "metadata": {},
   "outputs": [
    {
     "name": "stdout",
     "output_type": "stream",
     "text": [
      "Recall\n",
      "Pipeline(steps=[('preprocess',\n",
      "                 ColumnTransformer(remainder='passthrough',\n",
      "                                   transformers=[('num', StandardScaler(),\n",
      "                                                  ['Age',\n",
      "                                                   'Semester_Credit_Load',\n",
      "                                                   'CGPA']),\n",
      "                                                 ('ohe',\n",
      "                                                  OneHotEncoder(handle_unknown='ignore'),\n",
      "                                                  ['Course', 'Gender',\n",
      "                                                   'Relationship_Status',\n",
      "                                                   'Family_History',\n",
      "                                                   'Residence_Type',\n",
      "                                                   'Chronic_Illness']),\n",
      "                                                 ('ord',\n",
      "                                                  OrdinalEncoder(categories=[['Poor',\n",
      "                                                                              'Average',\n",
      "                                                                              'Good'],...\n",
      "                                                                              'Frequently'],\n",
      "                                                                             ['Never',\n",
      "                                                                              'Occasionally',\n",
      "                                                                              'Frequently'],\n",
      "                                                                             ['Low',\n",
      "                                                                              'Moderate',\n",
      "                                                                              'High']]),\n",
      "                                                  ['Sleep_Quality',\n",
      "                                                   'Physical_Activity',\n",
      "                                                   'Diet_Quality',\n",
      "                                                   'Social_Support',\n",
      "                                                   'Substance_Use',\n",
      "                                                   'Counseling_Service_Use',\n",
      "                                                   'Extracurricular_Involvement'])])),\n",
      "                ('forest',\n",
      "                 RandomForestClassifier(max_features=15,\n",
      "                                        min_impurity_decrease=0,\n",
      "                                        min_weight_fraction_leaf=0,\n",
      "                                        n_estimators=50, random_state=333))])\n",
      "\n",
      "Best Estimator Scores:\n",
      "Train Recall:  1.0\n",
      "CV Recall:  0.3295893549689645\n",
      "\n",
      "Train Accuracy:  1.0\n",
      "CV Accuracy:  0.5878792500794408\n",
      "\n",
      "Best Estimator Confusion Matrix on Training Data with no CV\n"
     ]
    },
    {
     "data": {
      "image/png": "[encoded data removed]",
      "text/plain": [
       "<Figure size 432x288 with 2 Axes>"
      ]
     },
     "metadata": {
      "needs_background": "light"
     },
     "output_type": "display_data"
    }
   ],
   "source": [
    "grid_results(forest_grid1_best)"
   ]
  },
  {
   "cell_type": "markdown",
   "metadata": {},
   "source": [
    "#### Random Forest with GridSearch 2"
   ]
  },
  {
   "cell_type": "code",
   "execution_count": 48,
   "metadata": {
    "scrolled": true
   },
   "outputs": [],
   "source": [
    "# # Creating parameters for GridSearch\n",
    "# params = {'forest__n_estimators': [50, 100, 40, 60],\n",
    "#           'forest__criterion': ['gini'],\n",
    "#           'forest__max_depth': [30, 100, None],\n",
    "#           'forest__min_samples_split': [3, 2],\n",
    "#           'forest__min_weight_fraction_leaf': [0, .75, .5, .25],\n",
    "#           'forest__max_features': [15, 20, 10, 'auto'],\n",
    "#           'forest__max_leaf_nodes': [None, 20],\n",
    "#           'forest__min_impurity_decrease': [0, .25],\n",
    "#          }\n",
    "\n",
    "# # GridSearch with the random forest pipeline, parameters above, 5 fold cross validation, and accuracy score\n",
    "# forest_grid2 = GridSearchCV(estimator=forest_pipe, param_grid=params, cv=5, scoring=recall_scorer, n_jobs=3)\n",
    "\n",
    "# # Fitting the GridSearch\n",
    "# forest_grid2.fit(X_train, y_train)\n",
    "\n",
    "# # Pickle the model\n",
    "# with open('../pickled_models/forest_grid2_best.pkl', 'wb') as f:\n",
    "#     pickle.dump(forest_grid2.best_estimator_, f)"
   ]
  },
  {
   "cell_type": "code",
   "execution_count": 49,
   "metadata": {},
   "outputs": [],
   "source": [
    "# Load the pickled model\n",
    "with open('../pickled_models/forest_grid2_best.pkl', 'rb') as f:\n",
    "    forest_grid2_best = pickle.load(f)"
   ]
  },
  {
   "cell_type": "code",
   "execution_count": 50,
   "metadata": {},
   "outputs": [
    {
     "name": "stdout",
     "output_type": "stream",
     "text": [
      "Recall\n",
      "Pipeline(steps=[('preprocess',\n",
      "                 ColumnTransformer(remainder='passthrough',\n",
      "                                   transformers=[('num', StandardScaler(),\n",
      "                                                  ['Age',\n",
      "                                                   'Semester_Credit_Load',\n",
      "                                                   'CGPA']),\n",
      "                                                 ('ohe',\n",
      "                                                  OneHotEncoder(handle_unknown='ignore'),\n",
      "                                                  ['Course', 'Gender',\n",
      "                                                   'Relationship_Status',\n",
      "                                                   'Family_History',\n",
      "                                                   'Residence_Type',\n",
      "                                                   'Chronic_Illness']),\n",
      "                                                 ('ord',\n",
      "                                                  OrdinalEncoder(categories=[['Poor',\n",
      "                                                                              'Average',\n",
      "                                                                              'Good'],...\n",
      "                                                                              'Frequently'],\n",
      "                                                                             ['Low',\n",
      "                                                                              'Moderate',\n",
      "                                                                              'High']]),\n",
      "                                                  ['Sleep_Quality',\n",
      "                                                   'Physical_Activity',\n",
      "                                                   'Diet_Quality',\n",
      "                                                   'Social_Support',\n",
      "                                                   'Substance_Use',\n",
      "                                                   'Counseling_Service_Use',\n",
      "                                                   'Extracurricular_Involvement'])])),\n",
      "                ('forest',\n",
      "                 RandomForestClassifier(max_depth=30, max_features=15,\n",
      "                                        min_impurity_decrease=0,\n",
      "                                        min_samples_split=3,\n",
      "                                        min_weight_fraction_leaf=0,\n",
      "                                        n_estimators=40, random_state=333))])\n",
      "\n",
      "Best Estimator Scores:\n",
      "Train Recall:  1.0\n",
      "CV Recall:  0.35082401329689833\n",
      "\n",
      "Train Accuracy:  0.9998093785741518\n",
      "CV Accuracy:  0.5831097190067638\n",
      "\n",
      "Best Estimator Confusion Matrix on Training Data with no CV\n"
     ]
    },
    {
     "data": {
      "image/png": "[encoded data removed]",
      "text/plain": [
       "<Figure size 432x288 with 2 Axes>"
      ]
     },
     "metadata": {
      "needs_background": "light"
     },
     "output_type": "display_data"
    }
   ],
   "source": [
    "grid_results(forest_grid2_best)"
   ]
  },
  {
   "cell_type": "markdown",
   "metadata": {},
   "source": [
    "#### Random Forest with Grid Search 3"
   ]
  },
  {
   "cell_type": "code",
   "execution_count": 51,
   "metadata": {},
   "outputs": [],
   "source": [
    "# # Creating parameters for GridSearch\n",
    "# params = {'forest__n_estimators': [40],\n",
    "#           'forest__criterion': ['gini'],\n",
    "#           'forest__max_depth': [30, 60],\n",
    "#           'forest__min_samples_split': [3, 4],\n",
    "#           'forest__min_weight_fraction_leaf': [0],\n",
    "#           'forest__max_features': [15, None],\n",
    "#           'forest__max_leaf_nodes': [100, 500, None, 300, 1000],\n",
    "#           'forest__min_impurity_decrease': [0],\n",
    "#          }\n",
    "\n",
    "# # GridSearch with the random forest pipeline, parameters above, 5 fold cross validation, and accuracy score\n",
    "# forest_grid3 = GridSearchCV(estimator=forest_pipe, param_grid=params, cv=5, scoring=recall_scorer, n_jobs=3)\n",
    "\n",
    "# # Fitting the GridSearch\n",
    "# forest_grid3.fit(X_train, y_train)\n",
    "\n",
    "# # Pickle the model\n",
    "# with open('../pickled_models/forest_grid3_best.pkl', 'wb') as f:\n",
    "#     pickle.dump(forest_grid3.best_estimator_, f)"
   ]
  },
  {
   "cell_type": "code",
   "execution_count": 52,
   "metadata": {},
   "outputs": [],
   "source": [
    "# Load the pickled model\n",
    "with open('../pickled_models/forest_grid3_best.pkl', 'rb') as f:\n",
    "    forest_grid3_best = pickle.load(f)"
   ]
  },
  {
   "cell_type": "code",
   "execution_count": 53,
   "metadata": {},
   "outputs": [
    {
     "name": "stdout",
     "output_type": "stream",
     "text": [
      "Recall\n",
      "Pipeline(steps=[('preprocess',\n",
      "                 ColumnTransformer(remainder='passthrough',\n",
      "                                   transformers=[('num', StandardScaler(),\n",
      "                                                  ['Age',\n",
      "                                                   'Semester_Credit_Load',\n",
      "                                                   'CGPA']),\n",
      "                                                 ('ohe',\n",
      "                                                  OneHotEncoder(handle_unknown='ignore'),\n",
      "                                                  ['Course', 'Gender',\n",
      "                                                   'Relationship_Status',\n",
      "                                                   'Family_History',\n",
      "                                                   'Residence_Type',\n",
      "                                                   'Chronic_Illness']),\n",
      "                                                 ('ord',\n",
      "                                                  OrdinalEncoder(categories=[['Poor',\n",
      "                                                                              'Average',\n",
      "                                                                              'Good'],...\n",
      "                                                                              'Moderate',\n",
      "                                                                              'High']]),\n",
      "                                                  ['Sleep_Quality',\n",
      "                                                   'Physical_Activity',\n",
      "                                                   'Diet_Quality',\n",
      "                                                   'Social_Support',\n",
      "                                                   'Substance_Use',\n",
      "                                                   'Counseling_Service_Use',\n",
      "                                                   'Extracurricular_Involvement'])])),\n",
      "                ('forest',\n",
      "                 RandomForestClassifier(max_depth=30, max_features=None,\n",
      "                                        max_leaf_nodes=1000,\n",
      "                                        min_impurity_decrease=0,\n",
      "                                        min_samples_split=4,\n",
      "                                        min_weight_fraction_leaf=0,\n",
      "                                        n_estimators=40, random_state=333))])\n",
      "\n",
      "Best Estimator Scores:\n",
      "Train Recall:  0.9995663486556808\n",
      "CV Recall:  0.35126160896225966\n",
      "\n",
      "Train Accuracy:  0.9994281357224553\n",
      "CV Accuracy:  0.5749159743973853\n",
      "\n",
      "Best Estimator Confusion Matrix on Training Data with no CV\n"
     ]
    },
    {
     "data": {
      "image/png": "[encoded data removed]",
      "text/plain": [
       "<Figure size 432x288 with 2 Axes>"
      ]
     },
     "metadata": {
      "needs_background": "light"
     },
     "output_type": "display_data"
    }
   ],
   "source": [
    "grid_results(forest_grid3_best)"
   ]
  },
  {
   "cell_type": "markdown",
   "metadata": {},
   "source": [
    "### Third Model: Logistic Regression"
   ]
  },
  {
   "cell_type": "code",
   "execution_count": 54,
   "metadata": {},
   "outputs": [],
   "source": [
    "# # Creating steps for a Pipeline \n",
    "# logreg_steps = [('preprocess', preprocessor),\n",
    "#                 ('logreg', LogisticRegression(random_state=333))]\n",
    "\n",
    "# # Feeding the Pipeline the steps defined above\n",
    "# logreg_pipe = Pipeline(logreg_steps)\n",
    "\n",
    "# # Fitting the training data to the Pipeline\n",
    "# logreg_pipe.fit(X_train, y_train)\n",
    "\n",
    "# # Pickle the model\n",
    "# with open('../pickled_models/logreg_pipe.pkl', 'wb') as f:\n",
    "#     pickle.dump(logreg_pipe, f)"
   ]
  },
  {
   "cell_type": "code",
   "execution_count": 55,
   "metadata": {},
   "outputs": [],
   "source": [
    "# Load the pickled model\n",
    "with open('../pickled_models/logreg_pipe.pkl', 'rb') as f:\n",
    "    logreg_pipe = pickle.load(f)"
   ]
  },
  {
   "cell_type": "code",
   "execution_count": 56,
   "metadata": {},
   "outputs": [
    {
     "name": "stdout",
     "output_type": "stream",
     "text": [
      "Train Recall:  0.2341717259323504\n",
      "CV Recall:  0.23460855846972986\n",
      "\n",
      "Train Accuracy:  0.6212352268394967\n",
      "CV Accuracy:  0.6210449861546145\n"
     ]
    },
    {
     "data": {
      "image/png": "[encoded data removed]",
      "text/plain": [
       "<Figure size 432x288 with 2 Axes>"
      ]
     },
     "metadata": {
      "needs_background": "light"
     },
     "output_type": "display_data"
    }
   ],
   "source": [
    "cv_scores(logreg_pipe)"
   ]
  },
  {
   "cell_type": "markdown",
   "metadata": {},
   "source": [
    "#### Logistic Regression with GridSearch 1"
   ]
  },
  {
   "cell_type": "code",
   "execution_count": 57,
   "metadata": {
    "scrolled": true
   },
   "outputs": [],
   "source": [
    "# Creating parameters for GridSearch\n",
    "params = {'logreg__class_weight':['balanced', None],\n",
    "                'logreg__C': [1, 0.0001],\n",
    "                'logreg__solver': ['lbfgs', 'sag', 'saga'],\n",
    "                'logreg__max_iter': [100],\n",
    "                'logreg__penalty': ['l1', 'l2']}\n",
    "\n",
    "# GridSearch with the logistic regression pipeline, parameters above, 5 fold cross validation, and accuracy score\n",
    "logreg_grid1 = GridSearchCV(estimator=logreg_pipe, param_grid=params, cv=5, scoring=recall_scorer, n_jobs=3)\n",
    "\n",
    "# Fitting the GridSearch\n",
    "logreg_grid1.fit(X_train, y_train)\n",
    "\n",
    "# Pickle the model\n",
    "with open('../pickled_models/logreg_grid1_best.pkl', 'wb') as f:\n",
    "    pickle.dump(logreg_grid1.best_estimator_, f)"
   ]
  },
  {
   "cell_type": "code",
   "execution_count": 58,
   "metadata": {},
   "outputs": [],
   "source": [
    "# Load the pickled model\n",
    "with open('../pickled_models/logreg_grid1_best.pkl', 'rb') as f:\n",
    "    logreg_grid1_best = pickle.load(f)"
   ]
  },
  {
   "cell_type": "code",
   "execution_count": 59,
   "metadata": {},
   "outputs": [
    {
     "name": "stdout",
     "output_type": "stream",
     "text": [
      "Recall\n",
      "Pipeline(steps=[('preprocess',\n",
      "                 ColumnTransformer(remainder='passthrough',\n",
      "                                   transformers=[('num', StandardScaler(),\n",
      "                                                  ['Age',\n",
      "                                                   'Semester_Credit_Load',\n",
      "                                                   'CGPA']),\n",
      "                                                 ('ohe',\n",
      "                                                  OneHotEncoder(handle_unknown='ignore'),\n",
      "                                                  ['Course', 'Gender',\n",
      "                                                   'Relationship_Status',\n",
      "                                                   'Family_History',\n",
      "                                                   'Residence_Type',\n",
      "                                                   'Chronic_Illness']),\n",
      "                                                 ('ord',\n",
      "                                                  OrdinalEncoder(categories=[['Poor',\n",
      "                                                                              'Average',\n",
      "                                                                              'Good'],...\n",
      "                                                                             ['Never',\n",
      "                                                                              'Occasionally',\n",
      "                                                                              'Frequently'],\n",
      "                                                                             ['Never',\n",
      "                                                                              'Occasionally',\n",
      "                                                                              'Frequently'],\n",
      "                                                                             ['Low',\n",
      "                                                                              'Moderate',\n",
      "                                                                              'High']]),\n",
      "                                                  ['Sleep_Quality',\n",
      "                                                   'Physical_Activity',\n",
      "                                                   'Diet_Quality',\n",
      "                                                   'Social_Support',\n",
      "                                                   'Substance_Use',\n",
      "                                                   'Counseling_Service_Use',\n",
      "                                                   'Extracurricular_Involvement'])])),\n",
      "                ('logreg',\n",
      "                 LogisticRegression(C=0.0001, class_weight='balanced',\n",
      "                                    penalty='l1', random_state=333,\n",
      "                                    solver='saga'))])\n",
      "\n",
      "Best Estimator Scores:\n",
      "Train Recall:  1.0\n",
      "CV Recall:  0.6\n",
      "\n",
      "Train Accuracy:  0.4395730080060999\n",
      "CV Accuracy:  0.4880000000000001\n",
      "\n",
      "Best Estimator Confusion Matrix on Training Data with no CV\n"
     ]
    },
    {
     "data": {
      "image/png": "[encoded data removed]",
      "text/plain": [
       "<Figure size 432x288 with 2 Axes>"
      ]
     },
     "metadata": {
      "needs_background": "light"
     },
     "output_type": "display_data"
    }
   ],
   "source": [
    "grid_results(logreg_grid1_best)"
   ]
  },
  {
   "cell_type": "markdown",
   "metadata": {},
   "source": [
    "#### Logistic Regression with GridSearch 2"
   ]
  },
  {
   "cell_type": "code",
   "execution_count": 60,
   "metadata": {},
   "outputs": [],
   "source": [
    "# # Creating parameters for GridSearch\n",
    "# params = {'logreg__class_weight':['balanced'],\n",
    "#                 'logreg__C': [.0001, .00001, .001],\n",
    "#                 'logreg__solver': ['saga', 'liblinear', 'newton-cg'],\n",
    "#                 'logreg__max_iter': [50, 100, 150, 1000],\n",
    "#                 'logreg__penalty': ['elasticnet', 'l1', None]}\n",
    "\n",
    "# # GridSearch with the logistic regression pipeline, parameters above, 5 fold cross validation, and accuracy score\n",
    "# logreg_grid2 = GridSearchCV(estimator=logreg_pipe, param_grid=params, cv=5, scoring=recall_scorer, n_jobs=3)\n",
    "\n",
    "# # Fitting the GridSearch\n",
    "# logreg_grid2.fit(X_train, y_train)\n",
    "\n",
    "# # Pickle the model\n",
    "# with open('../pickled_models/logreg_grid2_best.pkl', 'wb') as f:\n",
    "#     pickle.dump(logreg_grid2.best_estimator_, f)"
   ]
  },
  {
   "cell_type": "code",
   "execution_count": 61,
   "metadata": {},
   "outputs": [],
   "source": [
    "# Load the pickled model\n",
    "with open('../pickled_models/logreg_grid2_best.pkl', 'rb') as f:\n",
    "    logreg_grid2_best = pickle.load(f)"
   ]
  },
  {
   "cell_type": "code",
   "execution_count": 62,
   "metadata": {},
   "outputs": [
    {
     "name": "stdout",
     "output_type": "stream",
     "text": [
      "Recall\n",
      "Pipeline(steps=[('preprocess',\n",
      "                 ColumnTransformer(remainder='passthrough',\n",
      "                                   transformers=[('num', StandardScaler(),\n",
      "                                                  ['Age',\n",
      "                                                   'Semester_Credit_Load',\n",
      "                                                   'CGPA']),\n",
      "                                                 ('ohe',\n",
      "                                                  OneHotEncoder(handle_unknown='ignore'),\n",
      "                                                  ['Course', 'Gender',\n",
      "                                                   'Relationship_Status',\n",
      "                                                   'Family_History',\n",
      "                                                   'Residence_Type',\n",
      "                                                   'Chronic_Illness']),\n",
      "                                                 ('ord',\n",
      "                                                  OrdinalEncoder(categories=[['Poor',\n",
      "                                                                              'Average',\n",
      "                                                                              'Good'],...\n",
      "                                                                              'Occasionally',\n",
      "                                                                              'Frequently'],\n",
      "                                                                             ['Never',\n",
      "                                                                              'Occasionally',\n",
      "                                                                              'Frequently'],\n",
      "                                                                             ['Low',\n",
      "                                                                              'Moderate',\n",
      "                                                                              'High']]),\n",
      "                                                  ['Sleep_Quality',\n",
      "                                                   'Physical_Activity',\n",
      "                                                   'Diet_Quality',\n",
      "                                                   'Social_Support',\n",
      "                                                   'Substance_Use',\n",
      "                                                   'Counseling_Service_Use',\n",
      "                                                   'Extracurricular_Involvement'])])),\n",
      "                ('logreg',\n",
      "                 LogisticRegression(C=0.0001, class_weight='balanced',\n",
      "                                    max_iter=50, penalty='l1', random_state=333,\n",
      "                                    solver='saga'))])\n",
      "\n",
      "Best Estimator Scores:\n",
      "Train Recall:  1.0\n",
      "CV Recall:  0.6\n",
      "\n",
      "Train Accuracy:  0.4395730080060999\n",
      "CV Accuracy:  0.4880000000000001\n",
      "\n",
      "Best Estimator Confusion Matrix on Training Data with no CV\n"
     ]
    },
    {
     "data": {
      "image/png": "[encoded data removed]",
      "text/plain": [
       "<Figure size 432x288 with 2 Axes>"
      ]
     },
     "metadata": {
      "needs_background": "light"
     },
     "output_type": "display_data"
    }
   ],
   "source": [
    "grid_results(logreg_grid2_best)"
   ]
  },
  {
   "cell_type": "markdown",
   "metadata": {},
   "source": [
    "#### Logistic Regression with GridSearch 3"
   ]
  },
  {
   "cell_type": "code",
   "execution_count": 63,
   "metadata": {},
   "outputs": [],
   "source": [
    "# # Creating parameters for GridSearch\n",
    "# params = {'logreg__class_weight':['balanced'],\n",
    "#                 'logreg__C': [1, .01, .001],\n",
    "#                 'logreg__solver': ['saga'],\n",
    "#                 'logreg__max_iter': [25, 75],\n",
    "#                 'logreg__penalty': ['l1']}\n",
    "\n",
    "# # GridSearch with the logistic regression pipeline, parameters above, 5 fold cross validation, and accuracy score\n",
    "# logreg_grid3 = GridSearchCV(estimator=logreg_pipe, param_grid=params, cv=5, scoring=recall_scorer, n_jobs=3)\n",
    "\n",
    "# # Fitting the GridSearch\n",
    "# logreg_grid3.fit(X_train, y_train)\n",
    "\n",
    "# # Pickle the model\n",
    "# with open('../pickled_models/logreg_grid3_best.pkl', 'wb') as f:\n",
    "#     pickle.dump(logreg_grid3.best_estimator_, f)"
   ]
  },
  {
   "cell_type": "code",
   "execution_count": 64,
   "metadata": {},
   "outputs": [],
   "source": [
    "# Load the pickled model\n",
    "with open('../pickled_models/logreg_grid3_best.pkl', 'rb') as f:\n",
    "    logreg_grid3_best = pickle.load(f)"
   ]
  },
  {
   "cell_type": "code",
   "execution_count": 65,
   "metadata": {},
   "outputs": [
    {
     "name": "stdout",
     "output_type": "stream",
     "text": [
      "Recall\n",
      "Pipeline(steps=[('preprocess',\n",
      "                 ColumnTransformer(remainder='passthrough',\n",
      "                                   transformers=[('num', StandardScaler(),\n",
      "                                                  ['Age',\n",
      "                                                   'Semester_Credit_Load',\n",
      "                                                   'CGPA']),\n",
      "                                                 ('ohe',\n",
      "                                                  OneHotEncoder(handle_unknown='ignore'),\n",
      "                                                  ['Course', 'Gender',\n",
      "                                                   'Relationship_Status',\n",
      "                                                   'Family_History',\n",
      "                                                   'Residence_Type',\n",
      "                                                   'Chronic_Illness']),\n",
      "                                                 ('ord',\n",
      "                                                  OrdinalEncoder(categories=[['Poor',\n",
      "                                                                              'Average',\n",
      "                                                                              'Good'],...\n",
      "                                                                              'Occasionally',\n",
      "                                                                              'Frequently'],\n",
      "                                                                             ['Never',\n",
      "                                                                              'Occasionally',\n",
      "                                                                              'Frequently'],\n",
      "                                                                             ['Low',\n",
      "                                                                              'Moderate',\n",
      "                                                                              'High']]),\n",
      "                                                  ['Sleep_Quality',\n",
      "                                                   'Physical_Activity',\n",
      "                                                   'Diet_Quality',\n",
      "                                                   'Social_Support',\n",
      "                                                   'Substance_Use',\n",
      "                                                   'Counseling_Service_Use',\n",
      "                                                   'Extracurricular_Involvement'])])),\n",
      "                ('logreg',\n",
      "                 LogisticRegression(C=0.001, class_weight='balanced',\n",
      "                                    max_iter=25, penalty='l1', random_state=333,\n",
      "                                    solver='saga'))])\n",
      "\n",
      "Best Estimator Scores:\n",
      "Train Recall:  1.0\n",
      "CV Recall:  0.6\n",
      "\n",
      "Train Accuracy:  0.4395730080060999\n",
      "CV Accuracy:  0.488\n",
      "\n",
      "Best Estimator Confusion Matrix on Training Data with no CV\n"
     ]
    },
    {
     "data": {
      "image/png": "[encoded data removed]",
      "text/plain": [
       "<Figure size 432x288 with 2 Axes>"
      ]
     },
     "metadata": {
      "needs_background": "light"
     },
     "output_type": "display_data"
    }
   ],
   "source": [
    "grid_results(logreg_grid3_best)"
   ]
  },
  {
   "cell_type": "markdown",
   "metadata": {},
   "source": [
    "### Fourth Model: Logistic Regression with Polynomial Features"
   ]
  },
  {
   "cell_type": "code",
   "execution_count": 66,
   "metadata": {},
   "outputs": [],
   "source": [
    "# # Creating steps for a Pipeline \n",
    "# logregpoly_steps = [('preprocess', preprocessor),\n",
    "#                 ('polynomials', PolynomialFeatures()),\n",
    "#                 ('logreg', LogisticRegression(max_iter=1000, random_state=333))]\n",
    "\n",
    "# # Feeding the Pipeline the steps defined above\n",
    "# logregpoly_pipe = Pipeline(logregpoly_steps)\n",
    "\n",
    "# # Fitting the training data to the Pipeline\n",
    "# logregpoly_pipe.fit(X_train, y_train)\n",
    "\n",
    "# # Pickle the model\n",
    "# with open('../pickled_models/logregpoly_pipe.pkl', 'wb') as f:\n",
    "#     pickle.dump(logregpoly_pipe, f)"
   ]
  },
  {
   "cell_type": "code",
   "execution_count": 67,
   "metadata": {},
   "outputs": [],
   "source": [
    "# Load the pickled model\n",
    "with open('../pickled_models/logregpoly_pipe.pkl', 'rb') as f:\n",
    "    logregpoly_pipe = pickle.load(f)"
   ]
  },
  {
   "cell_type": "code",
   "execution_count": 68,
   "metadata": {},
   "outputs": [
    {
     "name": "stdout",
     "output_type": "stream",
     "text": [
      "Train Recall:  0.4241110147441457\n",
      "CV Recall:  0.37944521133241305\n",
      "\n",
      "Train Accuracy:  0.6471597407548608\n",
      "CV Accuracy:  0.5810113940714512\n"
     ]
    },
    {
     "data": {
      "image/png": "[encoded data removed]",
      "text/plain": [
       "<Figure size 432x288 with 2 Axes>"
      ]
     },
     "metadata": {
      "needs_background": "light"
     },
     "output_type": "display_data"
    }
   ],
   "source": [
    "cv_scores(logregpoly_pipe)"
   ]
  },
  {
   "cell_type": "markdown",
   "metadata": {},
   "source": [
    "#### Logistic Regression with Polynomial Features with Grid Search 1"
   ]
  },
  {
   "cell_type": "code",
   "execution_count": 69,
   "metadata": {},
   "outputs": [],
   "source": [
    "# # Creating parameters for GridSearch\n",
    "# params = {'logreg__class_weight':['balanced', None],\n",
    "#                 'logreg__C': [1, .01, .001],\n",
    "#                 'logreg__solver': ['saga'],\n",
    "#                 'logreg__max_iter': [1000, 2000],\n",
    "#                 'logreg__penalty': ['l1', 'l2']}\n",
    "\n",
    "# # GridSearch with the logistic regression pipeline, parameters above, 5 fold cross validation, and accuracy score\n",
    "# logregpoly_grid1 = GridSearchCV(estimator=logregpoly_pipe, param_grid=params, cv=5, scoring=recall_scorer, n_jobs=3)\n",
    "\n",
    "# # Fitting the GridSearch\n",
    "# logregpoly_grid1.fit(X_train, y_train)\n",
    "\n",
    "# # Pickle the model\n",
    "# with open('../pickled_models/logregpoly_grid1_best.pkl', 'wb') as f:\n",
    "#     pickle.dump(logregpoly_grid1.best_estimator_, f)"
   ]
  },
  {
   "cell_type": "code",
   "execution_count": 70,
   "metadata": {},
   "outputs": [],
   "source": [
    "# Load the pickled model\n",
    "with open('../pickled_models/logregpoly_grid1_best.pkl', 'rb') as f:\n",
    "    logregpoly_grid1_best = pickle.load(f)"
   ]
  },
  {
   "cell_type": "code",
   "execution_count": 71,
   "metadata": {},
   "outputs": [
    {
     "name": "stdout",
     "output_type": "stream",
     "text": [
      "Recall\n",
      "Pipeline(steps=[('preprocess',\n",
      "                 ColumnTransformer(remainder='passthrough',\n",
      "                                   transformers=[('num', StandardScaler(),\n",
      "                                                  ['Age',\n",
      "                                                   'Semester_Credit_Load',\n",
      "                                                   'CGPA']),\n",
      "                                                 ('ohe',\n",
      "                                                  OneHotEncoder(handle_unknown='ignore'),\n",
      "                                                  ['Course', 'Gender',\n",
      "                                                   'Relationship_Status',\n",
      "                                                   'Family_History',\n",
      "                                                   'Residence_Type',\n",
      "                                                   'Chronic_Illness']),\n",
      "                                                 ('ord',\n",
      "                                                  OrdinalEncoder(categories=[['Poor',\n",
      "                                                                              'Average',\n",
      "                                                                              'Good'],...\n",
      "                                                                              'Occasionally',\n",
      "                                                                              'Frequently'],\n",
      "                                                                             ['Low',\n",
      "                                                                              'Moderate',\n",
      "                                                                              'High']]),\n",
      "                                                  ['Sleep_Quality',\n",
      "                                                   'Physical_Activity',\n",
      "                                                   'Diet_Quality',\n",
      "                                                   'Social_Support',\n",
      "                                                   'Substance_Use',\n",
      "                                                   'Counseling_Service_Use',\n",
      "                                                   'Extracurricular_Involvement'])])),\n",
      "                ('polynomials', PolynomialFeatures()),\n",
      "                ('logreg',\n",
      "                 LogisticRegression(C=0.001, class_weight='balanced',\n",
      "                                    max_iter=1000, penalty='l1',\n",
      "                                    random_state=333, solver='saga'))])\n",
      "\n",
      "Best Estimator Scores:\n",
      "Train Recall:  1.0\n",
      "CV Recall:  0.8\n",
      "\n",
      "Train Accuracy:  0.4395730080060999\n",
      "CV Accuracy:  0.46378646329837947\n",
      "\n",
      "Best Estimator Confusion Matrix on Training Data with no CV\n"
     ]
    },
    {
     "data": {
      "image/png": "[encoded data removed]",
      "text/plain": [
       "<Figure size 432x288 with 2 Axes>"
      ]
     },
     "metadata": {
      "needs_background": "light"
     },
     "output_type": "display_data"
    }
   ],
   "source": [
    "grid_results(logregpoly_grid1_best)"
   ]
  },
  {
   "cell_type": "markdown",
   "metadata": {},
   "source": [
    "# ROC ATTEMPT"
   ]
  },
  {
   "cell_type": "code",
   "execution_count": 72,
   "metadata": {},
   "outputs": [
    {
     "data": {
      "text/plain": [
       "array(['Yes', 'Yes', 'Yes', ..., 'Yes', 'Yes', 'Yes'], dtype='<U3')"
      ]
     },
     "execution_count": 72,
     "metadata": {},
     "output_type": "execute_result"
    }
   ],
   "source": [
    "predictions = logregpoly_grid1.best_estimator_.predict_proba(X_train)\n",
    "predictions\n",
    "y_pred = np.where(predictions[:,1] > 0.4, 'Yes', 'No')\n",
    "y_pred"
   ]
  },
  {
   "cell_type": "code",
   "execution_count": 73,
   "metadata": {},
   "outputs": [
    {
     "name": "stdout",
     "output_type": "stream",
     "text": [
      "Recall:  1.0\n",
      "Accuracy:  0.4395730080060999\n"
     ]
    }
   ],
   "source": [
    "print('Recall: ',recall_score(y_train, y_pred, pos_label='Yes'))\n",
    "print('Accuracy: ',accuracy_score(y_train, y_pred))"
   ]
  },
  {
   "cell_type": "code",
   "execution_count": 74,
   "metadata": {},
   "outputs": [
    {
     "data": {
      "text/plain": [
       "<sklearn.metrics._plot.roc_curve.RocCurveDisplay at 0x7fecc30134f0>"
      ]
     },
     "execution_count": 74,
     "metadata": {},
     "output_type": "execute_result"
    },
    {
     "data": {
      "image/png": "[encoded data removed]",
      "text/plain": [
       "<Figure size 432x288 with 1 Axes>"
      ]
     },
     "metadata": {
      "needs_background": "light"
     },
     "output_type": "display_data"
    }
   ],
   "source": [
    "plot_roc_curve(logregpoly_grid1.best_estimator_, X_train, y_train)"
   ]
  },
  {
   "cell_type": "markdown",
   "metadata": {},
   "source": [
    "#### Logistic Regression with Polynomial Features with Grid Search 2"
   ]
  },
  {
   "cell_type": "code",
   "execution_count": 75,
   "metadata": {},
   "outputs": [],
   "source": [
    "# # Creating parameters for GridSearch\n",
    "# params = {'logreg__class_weight':['balanced'],\n",
    "#                 'logreg__C': [.001, .0001],\n",
    "#                 'logreg__solver': ['saga', 'sag', 'lbfjs'],\n",
    "#                 'logreg__max_iter': [600, 800, 1000],\n",
    "#                 'logreg__penalty': ['l1', 'none'],\n",
    "#          'polynomials__degree': [2]}\n",
    "\n",
    "# # GridSearch with the logistic regression pipeline, parameters above, 5 fold cross validation, and accuracy score\n",
    "# logregpoly_grid2 = GridSearchCV(estimator=logregpoly_pipe, param_grid=params, cv=5, scoring=recall_scorer, n_jobs=3)\n",
    "\n",
    "# # Fitting the GridSearch\n",
    "# logregpoly_grid2.fit(X_train, y_train)\n",
    "\n",
    "# # Pickle the model\n",
    "# with open('../pickled_models/logregpoly_grid2_best.pkl', 'wb') as f:\n",
    "#     pickle.dump(logregpoly_grid2.best_estimator_, f)"
   ]
  },
  {
   "cell_type": "code",
   "execution_count": 76,
   "metadata": {},
   "outputs": [],
   "source": [
    "# Load the pickled model\n",
    "with open('../pickled_models/logregpoly_grid2_best.pkl', 'rb') as f:\n",
    "    logregpoly_grid2_best = pickle.load(f)"
   ]
  },
  {
   "cell_type": "code",
   "execution_count": 77,
   "metadata": {},
   "outputs": [
    {
     "name": "stdout",
     "output_type": "stream",
     "text": [
      "Recall\n",
      "Pipeline(steps=[('preprocess',\n",
      "                 ColumnTransformer(remainder='passthrough',\n",
      "                                   transformers=[('num', StandardScaler(),\n",
      "                                                  ['Age',\n",
      "                                                   'Semester_Credit_Load',\n",
      "                                                   'CGPA']),\n",
      "                                                 ('ohe',\n",
      "                                                  OneHotEncoder(handle_unknown='ignore'),\n",
      "                                                  ['Course', 'Gender',\n",
      "                                                   'Relationship_Status',\n",
      "                                                   'Family_History',\n",
      "                                                   'Residence_Type',\n",
      "                                                   'Chronic_Illness']),\n",
      "                                                 ('ord',\n",
      "                                                  OrdinalEncoder(categories=[['Poor',\n",
      "                                                                              'Average',\n",
      "                                                                              'Good'],...\n",
      "                                                                              'Occasionally',\n",
      "                                                                              'Frequently'],\n",
      "                                                                             ['Low',\n",
      "                                                                              'Moderate',\n",
      "                                                                              'High']]),\n",
      "                                                  ['Sleep_Quality',\n",
      "                                                   'Physical_Activity',\n",
      "                                                   'Diet_Quality',\n",
      "                                                   'Social_Support',\n",
      "                                                   'Substance_Use',\n",
      "                                                   'Counseling_Service_Use',\n",
      "                                                   'Extracurricular_Involvement'])])),\n",
      "                ('polynomials', PolynomialFeatures()),\n",
      "                ('logreg',\n",
      "                 LogisticRegression(C=0.001, class_weight='balanced',\n",
      "                                    max_iter=600, penalty='l1',\n",
      "                                    random_state=333, solver='saga'))])\n",
      "\n",
      "Best Estimator Scores:\n",
      "Train Recall:  1.0\n",
      "CV Recall:  0.8\n",
      "\n",
      "Train Accuracy:  0.4395730080060999\n",
      "CV Accuracy:  0.46378646329837947\n",
      "\n",
      "Best Estimator Confusion Matrix on Training Data with no CV\n"
     ]
    },
    {
     "data": {
      "image/png": "[encoded data removed]",
      "text/plain": [
       "<Figure size 432x288 with 2 Axes>"
      ]
     },
     "metadata": {
      "needs_background": "light"
     },
     "output_type": "display_data"
    }
   ],
   "source": [
    "grid_results(logregpoly_grid2_best)"
   ]
  },
  {
   "cell_type": "markdown",
   "metadata": {},
   "source": [
    "### Fourth Model: Gradient Boosting Classifier"
   ]
  },
  {
   "cell_type": "code",
   "execution_count": 78,
   "metadata": {},
   "outputs": [],
   "source": [
    "# # Creating steps for a Pipeline \n",
    "# gbc_steps = [('preprocess', preprocessor),\n",
    "#                 ('gbc', GradientBoostingClassifier(random_state=333))]\n",
    "\n",
    "# # Feeding the Pipeline the steps defined above\n",
    "# gbc_pipe = Pipeline(gbc_steps)\n",
    "\n",
    "# # Fitting the training data to the Pipeline\n",
    "# gbc_pipe.fit(X_train, y_train)\n",
    "\n",
    "# # Pickle the model\n",
    "# with open('../pickled_models/gbc_pipe.pkl', 'wb') as f:\n",
    "#     pickle.dump(gbc_pipe, f)"
   ]
  },
  {
   "cell_type": "code",
   "execution_count": 79,
   "metadata": {},
   "outputs": [],
   "source": [
    "# Load the pickled model\n",
    "with open('../pickled_models/gbc_pipe.pkl', 'rb') as f:\n",
    "    gbc_pipe = pickle.load(f)"
   ]
  },
  {
   "cell_type": "code",
   "execution_count": 80,
   "metadata": {},
   "outputs": [
    {
     "name": "stdout",
     "output_type": "stream",
     "text": [
      "Train Recall:  0.30875975715524717\n",
      "CV Recall:  0.2719027899071283\n",
      "\n",
      "Train Accuracy:  0.6513534121235227\n",
      "CV Accuracy:  0.610751645558128\n"
     ]
    },
    {
     "data": {
      "image/png": "[encoded data removed]",
      "text/plain": [
       "<Figure size 432x288 with 2 Axes>"
      ]
     },
     "metadata": {
      "needs_background": "light"
     },
     "output_type": "display_data"
    }
   ],
   "source": [
    "cv_scores(gbc_pipe)"
   ]
  },
  {
   "cell_type": "markdown",
   "metadata": {},
   "source": [
    "#### Gradient Boosting Classifier with Grid Search 1"
   ]
  },
  {
   "cell_type": "code",
   "execution_count": 82,
   "metadata": {
    "scrolled": true
   },
   "outputs": [],
   "source": [
    "# # Creating parameters for GridSearch\n",
    "# params = {'gbc__loss': ['exponential'],\n",
    "#           'gbc__learning_rate': [0.01, .1],\n",
    "#           'gbc__n_estimators': [1000, 500],\n",
    "#          'gbc__criterion': ['mse'],\n",
    "#          'gbc__min_samples_split': [2],\n",
    "#          'gbc__max_depth': [3, None]}\n",
    "\n",
    "# # GridSearch with the logistic regression pipeline, parameters above, 5 fold cross validation, and accuracy score\n",
    "# gbc_grid1 = GridSearchCV(estimator=gbc_pipe, param_grid=params, cv=5, scoring=recall_scorer, n_jobs=3)\n",
    "\n",
    "# # Fitting the GridSearch\n",
    "# gbc_grid1.fit(X_train, y_train)\n",
    "\n",
    "# # Pickle the model\n",
    "# with open('../pickled_models/gbc_grid1_best.pkl', 'wb') as f:\n",
    "#     pickle.dump(gbc_grid1.best_estimator_, f)\n",
    "    \n",
    "# # GradientBoostingClassifier()"
   ]
  },
  {
   "cell_type": "code",
   "execution_count": 83,
   "metadata": {},
   "outputs": [],
   "source": [
    "# Load the pickled model\n",
    "with open('../pickled_models/gbc_grid1_best.pkl', 'rb') as f:\n",
    "    gbc_grid1_best = pickle.load(f)"
   ]
  },
  {
   "cell_type": "code",
   "execution_count": 84,
   "metadata": {},
   "outputs": [
    {
     "name": "stdout",
     "output_type": "stream",
     "text": [
      "Recall\n",
      "Pipeline(steps=[('preprocess',\n",
      "                 ColumnTransformer(remainder='passthrough',\n",
      "                                   transformers=[('num', StandardScaler(),\n",
      "                                                  ['Age',\n",
      "                                                   'Semester_Credit_Load',\n",
      "                                                   'CGPA']),\n",
      "                                                 ('ohe',\n",
      "                                                  OneHotEncoder(handle_unknown='ignore'),\n",
      "                                                  ['Course', 'Gender',\n",
      "                                                   'Relationship_Status',\n",
      "                                                   'Family_History',\n",
      "                                                   'Residence_Type',\n",
      "                                                   'Chronic_Illness']),\n",
      "                                                 ('ord',\n",
      "                                                  OrdinalEncoder(categories=[['Poor',\n",
      "                                                                              'Average',\n",
      "                                                                              'Good'],...\n",
      "                                                                              'Occasionally',\n",
      "                                                                              'Frequently'],\n",
      "                                                                             ['Never',\n",
      "                                                                              'Occasionally',\n",
      "                                                                              'Frequently'],\n",
      "                                                                             ['Low',\n",
      "                                                                              'Moderate',\n",
      "                                                                              'High']]),\n",
      "                                                  ['Sleep_Quality',\n",
      "                                                   'Physical_Activity',\n",
      "                                                   'Diet_Quality',\n",
      "                                                   'Social_Support',\n",
      "                                                   'Substance_Use',\n",
      "                                                   'Counseling_Service_Use',\n",
      "                                                   'Extracurricular_Involvement'])])),\n",
      "                ('gbc',\n",
      "                 GradientBoostingClassifier(criterion='mse', loss='exponential',\n",
      "                                            max_depth=None, n_estimators=1000,\n",
      "                                            random_state=333))])\n",
      "\n",
      "Best Estimator Scores:\n",
      "Train Recall:  1.0\n",
      "CV Recall:  0.47224648092327054\n",
      "\n",
      "Train Accuracy:  1.0\n",
      "CV Accuracy:  0.5263087747968587\n",
      "\n",
      "Best Estimator Confusion Matrix on Training Data with no CV\n"
     ]
    },
    {
     "data": {
      "image/png": "[encoded data removed]",
      "text/plain": [
       "<Figure size 432x288 with 2 Axes>"
      ]
     },
     "metadata": {
      "needs_background": "light"
     },
     "output_type": "display_data"
    }
   ],
   "source": [
    "grid_results(gbc_grid1_best)"
   ]
  },
  {
   "cell_type": "markdown",
   "metadata": {},
   "source": [
    "#### Gradient Boosting Classifier with Grid Search 2"
   ]
  },
  {
   "cell_type": "code",
   "execution_count": 85,
   "metadata": {},
   "outputs": [],
   "source": [
    "# # Creating parameters for GridSearch\n",
    "# params = {'gbc__loss': ['exponential'],\n",
    "#           'gbc__learning_rate': [.1],\n",
    "#           'gbc__n_estimators': [1000, 1200],\n",
    "#          'gbc__criterion': ['mse'],\n",
    "#           'gbc__max_depth': [10, None]}\n",
    "\n",
    "# # GridSearch with the logistic regression pipeline, parameters above, 5 fold cross validation, and accuracy score\n",
    "# gbc_grid2 = GridSearchCV(estimator=gbc_pipe, param_grid=params, cv=5, scoring=recall_scorer, n_jobs=3)\n",
    "\n",
    "# # Fitting the GridSearch\n",
    "# gbc_grid2.fit(X_train, y_train)\n",
    "\n",
    "# # Pickle the model\n",
    "# with open('../pickled_models/gbc_grid2_best.pkl', 'wb') as f:\n",
    "#     pickle.dump(gbc_grid2.best_estimator_, f)"
   ]
  },
  {
   "cell_type": "code",
   "execution_count": 86,
   "metadata": {},
   "outputs": [],
   "source": [
    "# Load the pickled model\n",
    "with open('../pickled_models/gbc_grid2_best.pkl', 'rb') as f:\n",
    "    gbc_grid2_best = pickle.load(f)"
   ]
  },
  {
   "cell_type": "code",
   "execution_count": 87,
   "metadata": {},
   "outputs": [
    {
     "name": "stdout",
     "output_type": "stream",
     "text": [
      "Recall\n",
      "Pipeline(steps=[('preprocess',\n",
      "                 ColumnTransformer(remainder='passthrough',\n",
      "                                   transformers=[('num', StandardScaler(),\n",
      "                                                  ['Age',\n",
      "                                                   'Semester_Credit_Load',\n",
      "                                                   'CGPA']),\n",
      "                                                 ('ohe',\n",
      "                                                  OneHotEncoder(handle_unknown='ignore'),\n",
      "                                                  ['Course', 'Gender',\n",
      "                                                   'Relationship_Status',\n",
      "                                                   'Family_History',\n",
      "                                                   'Residence_Type',\n",
      "                                                   'Chronic_Illness']),\n",
      "                                                 ('ord',\n",
      "                                                  OrdinalEncoder(categories=[['Poor',\n",
      "                                                                              'Average',\n",
      "                                                                              'Good'],...\n",
      "                                                                              'Occasionally',\n",
      "                                                                              'Frequently'],\n",
      "                                                                             ['Never',\n",
      "                                                                              'Occasionally',\n",
      "                                                                              'Frequently'],\n",
      "                                                                             ['Low',\n",
      "                                                                              'Moderate',\n",
      "                                                                              'High']]),\n",
      "                                                  ['Sleep_Quality',\n",
      "                                                   'Physical_Activity',\n",
      "                                                   'Diet_Quality',\n",
      "                                                   'Social_Support',\n",
      "                                                   'Substance_Use',\n",
      "                                                   'Counseling_Service_Use',\n",
      "                                                   'Extracurricular_Involvement'])])),\n",
      "                ('gbc',\n",
      "                 GradientBoostingClassifier(criterion='mse', loss='exponential',\n",
      "                                            max_depth=None, n_estimators=1200,\n",
      "                                            random_state=333))])\n",
      "\n",
      "Best Estimator Scores:\n",
      "Train Recall:  1.0\n",
      "CV Recall:  0.4735470603149562\n",
      "\n",
      "Train Accuracy:  1.0\n",
      "CV Accuracy:  0.5274521766761996\n",
      "\n",
      "Best Estimator Confusion Matrix on Training Data with no CV\n"
     ]
    },
    {
     "data": {
      "image/png": "[encoded data removed]",
      "text/plain": [
       "<Figure size 432x288 with 2 Axes>"
      ]
     },
     "metadata": {
      "needs_background": "light"
     },
     "output_type": "display_data"
    }
   ],
   "source": [
    "grid_results(gbc_grid2_best)"
   ]
  },
  {
   "cell_type": "markdown",
   "metadata": {},
   "source": [
    "#### Gradient Boosting Classifier with Gradient Search 3"
   ]
  },
  {
   "cell_type": "code",
   "execution_count": 88,
   "metadata": {},
   "outputs": [],
   "source": [
    "# # Creating parameters for GridSearch\n",
    "# params = {'gbc__loss': ['exponential'],\n",
    "#           'gbc__learning_rate': [.1],\n",
    "#           'gbc__n_estimators': [300],\n",
    "#          'gbc__criterion': ['mse'],\n",
    "#           'gbc__max_depth': [100, 50]}\n",
    "\n",
    "# # GridSearch with the logistic regression pipeline, parameters above, 5 fold cross validation, and accuracy score\n",
    "# gbc_grid3 = GridSearchCV(estimator=gbc_pipe, param_grid=params, cv=5, scoring=recall_scorer, n_jobs=3)\n",
    "\n",
    "# # Fitting the GridSearch\n",
    "# gbc_grid3.fit(X_train, y_train)\n",
    "\n",
    "# # Pickle the model\n",
    "# with open('../pickled_models/gbc_grid3_best.pkl', 'wb') as f:\n",
    "#     pickle.dump(gbc_grid3.best_estimator_, f)"
   ]
  },
  {
   "cell_type": "code",
   "execution_count": 89,
   "metadata": {},
   "outputs": [],
   "source": [
    "# Load the pickled model\n",
    "with open('../pickled_models/gbc_grid3_best.pkl', 'rb') as f:\n",
    "    gbc_grid3_best = pickle.load(f)"
   ]
  },
  {
   "cell_type": "code",
   "execution_count": 90,
   "metadata": {},
   "outputs": [
    {
     "name": "stdout",
     "output_type": "stream",
     "text": [
      "Recall\n",
      "Pipeline(steps=[('preprocess',\n",
      "                 ColumnTransformer(remainder='passthrough',\n",
      "                                   transformers=[('num', StandardScaler(),\n",
      "                                                  ['Age',\n",
      "                                                   'Semester_Credit_Load',\n",
      "                                                   'CGPA']),\n",
      "                                                 ('ohe',\n",
      "                                                  OneHotEncoder(handle_unknown='ignore'),\n",
      "                                                  ['Course', 'Gender',\n",
      "                                                   'Relationship_Status',\n",
      "                                                   'Family_History',\n",
      "                                                   'Residence_Type',\n",
      "                                                   'Chronic_Illness']),\n",
      "                                                 ('ord',\n",
      "                                                  OrdinalEncoder(categories=[['Poor',\n",
      "                                                                              'Average',\n",
      "                                                                              'Good'],...\n",
      "                                                                              'Occasionally',\n",
      "                                                                              'Frequently'],\n",
      "                                                                             ['Never',\n",
      "                                                                              'Occasionally',\n",
      "                                                                              'Frequently'],\n",
      "                                                                             ['Low',\n",
      "                                                                              'Moderate',\n",
      "                                                                              'High']]),\n",
      "                                                  ['Sleep_Quality',\n",
      "                                                   'Physical_Activity',\n",
      "                                                   'Diet_Quality',\n",
      "                                                   'Social_Support',\n",
      "                                                   'Substance_Use',\n",
      "                                                   'Counseling_Service_Use',\n",
      "                                                   'Extracurricular_Involvement'])])),\n",
      "                ('gbc',\n",
      "                 GradientBoostingClassifier(criterion='mse', loss='exponential',\n",
      "                                            max_depth=100, n_estimators=300,\n",
      "                                            random_state=333))])\n",
      "\n",
      "Best Estimator Scores:\n",
      "Train Recall:  1.0\n",
      "CV Recall:  0.473981838840841\n",
      "\n",
      "Train Accuracy:  1.0\n",
      "CV Accuracy:  0.5264997957238187\n",
      "\n",
      "Best Estimator Confusion Matrix on Training Data with no CV\n"
     ]
    },
    {
     "data": {
      "image/png": "[encoded data removed]",
      "text/plain": [
       "<Figure size 432x288 with 2 Axes>"
      ]
     },
     "metadata": {
      "needs_background": "light"
     },
     "output_type": "display_data"
    }
   ],
   "source": [
    "grid_results(gbc_grid3_best)"
   ]
  },
  {
   "cell_type": "code",
   "execution_count": null,
   "metadata": {},
   "outputs": [],
   "source": []
  },
  {
   "cell_type": "code",
   "execution_count": null,
   "metadata": {},
   "outputs": [],
   "source": []
  },
  {
   "cell_type": "code",
   "execution_count": null,
   "metadata": {},
   "outputs": [],
   "source": []
  },
  {
   "cell_type": "code",
   "execution_count": null,
   "metadata": {},
   "outputs": [],
   "source": []
  },
  {
   "cell_type": "markdown",
   "metadata": {},
   "source": [
    "### Curiosity: Neural Network"
   ]
  },
  {
   "cell_type": "code",
   "execution_count": 91,
   "metadata": {},
   "outputs": [],
   "source": [
    "# # Creating steps for a Pipeline \n",
    "# neural_steps = [('preprocess', preprocessor),\n",
    "#                 ('neural', MLPClassifier(random_state=333, max_iter=1000))]\n",
    "\n",
    "# # Feeding the Pipeline the steps defined above\n",
    "# neural_pipe = Pipeline(neural_steps)\n",
    "\n",
    "# # Fitting the training data to the Pipeline\n",
    "# neural_pipe.fit(X_train, y_train)\n",
    "\n",
    "# # Pickle the model\n",
    "# with open('../pickled_models/neural_pipe.pkl', 'wb') as f:\n",
    "#     pickle.dump(neural_pipe, f)"
   ]
  },
  {
   "cell_type": "code",
   "execution_count": 92,
   "metadata": {},
   "outputs": [],
   "source": [
    "# Load the pickled model\n",
    "with open('../pickled_models/neural_pipe.pkl', 'rb') as f:\n",
    "    neural_pipe = pickle.load(f)"
   ]
  },
  {
   "cell_type": "code",
   "execution_count": 93,
   "metadata": {},
   "outputs": [
    {
     "name": "stdout",
     "output_type": "stream",
     "text": [
      "Train Recall:  0.8074588031222897\n",
      "CV Recall:  0.47096468246142864\n",
      "\n",
      "Train Accuracy:  0.8518871521158978\n",
      "CV Accuracy:  0.529932543465432\n"
     ]
    },
    {
     "data": {
      "image/png": "[encoded data removed]",
      "text/plain": [
       "<Figure size 432x288 with 2 Axes>"
      ]
     },
     "metadata": {
      "needs_background": "light"
     },
     "output_type": "display_data"
    }
   ],
   "source": [
    "cv_scores(neural_pipe)"
   ]
  },
  {
   "cell_type": "markdown",
   "metadata": {},
   "source": [
    "### Neural Network with Polynomials"
   ]
  },
  {
   "cell_type": "code",
   "execution_count": 94,
   "metadata": {},
   "outputs": [],
   "source": [
    "# # Creating steps for a Pipeline \n",
    "# neural_steps = [('preprocess', preprocessor),\n",
    "#                 ('polynomialfeatures', PolynomialFeatures()),\n",
    "#                 ('neural', MLPClassifier(random_state=333, max_iter=2000))]\n",
    "\n",
    "# # Feeding the Pipeline the steps defined above\n",
    "# neuralpoly_pipe = Pipeline(neural_steps)\n",
    "\n",
    "# # Fitting the training data to the Pipeline\n",
    "# neuralpoly_pipe.fit(X_train, y_train)\n",
    "\n",
    "# # Pickle the model\n",
    "# with open('../pickled_models/neuralpoly_pipe.pkl', 'wb') as f:\n",
    "#     pickle.dump(neuralpoly_pipe, f)"
   ]
  },
  {
   "cell_type": "code",
   "execution_count": 95,
   "metadata": {},
   "outputs": [],
   "source": [
    "# Load the pickled model\n",
    "with open('../pickled_models/neuralpoly_pipe.pkl', 'rb') as f:\n",
    "    neuralpoly_pipe = pickle.load(f)"
   ]
  },
  {
   "cell_type": "code",
   "execution_count": 96,
   "metadata": {},
   "outputs": [
    {
     "name": "stdout",
     "output_type": "stream",
     "text": [
      "Train Recall:  1.0\n",
      "CV Recall:  0.4423218863565935\n",
      "\n",
      "Train Accuracy:  1.0\n",
      "CV Accuracy:  0.5373618412093151\n"
     ]
    },
    {
     "data": {
      "image/png": "[encoded data removed]",
      "text/plain": [
       "<Figure size 432x288 with 2 Axes>"
      ]
     },
     "metadata": {
      "needs_background": "light"
     },
     "output_type": "display_data"
    }
   ],
   "source": [
    "cv_scores(neuralpoly_pipe)"
   ]
  },
  {
   "cell_type": "markdown",
   "metadata": {},
   "source": [
    "#### Neural Network with Random Search 1"
   ]
  },
  {
   "cell_type": "code",
   "execution_count": 97,
   "metadata": {},
   "outputs": [],
   "source": [
    "# # Creating parameters for RandomizedSearch\n",
    "# params = {'neural__hidden_layer_sizes': [(100,), (50,), (150,), (500,)],\n",
    "#          'neural__activation': ['relu', 'identity', 'logistic', 'tanh'],\n",
    "#          'neural__solver': ['lbfgs', 'sgd', 'adam'],\n",
    "#          'neural__alpha': [0.0001, 0.1, 0.001],\n",
    "#          'neural__learning_rate': ['constant', 'invscaling', 'adaptive']}\n",
    "\n",
    "# # GridSearch with the logistic regression pipeline, parameters above, 5 fold cross validation, and accuracy score\n",
    "# neuralpoly_random1 = RandomizedSearchCV(estimator=neuralpoly_pipe, param_distributions=params, cv=5, scoring=recall_scorer, n_iter=50, n_jobs=3, random_state=333)\n",
    "\n",
    "# # Fitting the GridSearch\n",
    "# neuralpoly_random1.fit(X_train, y_train)\n",
    "\n",
    "# # Pickle the model\n",
    "# with open('../pickled_models/neuralpoly_random1_best.pkl', 'wb') as f:\n",
    "#     pickle.dump(neuralpoly_random1.best_estimator_, f)"
   ]
  },
  {
   "cell_type": "code",
   "execution_count": 98,
   "metadata": {},
   "outputs": [],
   "source": [
    "# Load the pickled model\n",
    "with open('../pickled_models/neuralpoly_random1_best.pkl', 'rb') as f:\n",
    "    neuralpoly_random1_best = pickle.load(f)"
   ]
  },
  {
   "cell_type": "code",
   "execution_count": 99,
   "metadata": {},
   "outputs": [
    {
     "name": "stdout",
     "output_type": "stream",
     "text": [
      "Train Recall:  0.9986990459670425\n",
      "CV Recall:  0.4735573898263703\n",
      "\n",
      "Train Accuracy:  0.9992375142966069\n",
      "CV Accuracy:  0.5322191656452858\n"
     ]
    },
    {
     "data": {
      "image/png": "[encoded data removed]",
      "text/plain": [
       "<Figure size 432x288 with 2 Axes>"
      ]
     },
     "metadata": {
      "needs_background": "light"
     },
     "output_type": "display_data"
    }
   ],
   "source": [
    "cv_scores(neuralpoly_random1.best_estimator_)"
   ]
  },
  {
   "cell_type": "code",
   "execution_count": 100,
   "metadata": {},
   "outputs": [
    {
     "data": {
      "text/plain": [
       "{'neural__solver': 'lbfgs',\n",
       " 'neural__learning_rate': 'invscaling',\n",
       " 'neural__hidden_layer_sizes': (100,),\n",
       " 'neural__alpha': 0.0001,\n",
       " 'neural__activation': 'logistic'}"
      ]
     },
     "execution_count": 100,
     "metadata": {},
     "output_type": "execute_result"
    }
   ],
   "source": [
    "neuralpoly_random1.best_params_"
   ]
  },
  {
   "cell_type": "markdown",
   "metadata": {},
   "source": [
    "#### Neural Network with Grid Search 1"
   ]
  },
  {
   "cell_type": "code",
   "execution_count": 101,
   "metadata": {},
   "outputs": [],
   "source": [
    "# # Creating parameters for RandomizedSearch\n",
    "# params = {'neural__hidden_layer_sizes': [(75,), (100,), (125,)],\n",
    "#          'neural__activation': ['logistic'],\n",
    "#          'neural__solver': ['lbfgs'],\n",
    "#          'neural__alpha': [0.0001, 0.00001, 0.000001],\n",
    "#          'neural__learning_rate': ['invscaling']}\n",
    "\n",
    "# # GridSearch\n",
    "# neuralpoly_grid1 = GridSearchCV(estimator=neuralpoly_pipe, param_grid=params, cv=5, scoring=recall_scorer, n_jobs=3)\n",
    "\n",
    "# # Fitting the GridSearch\n",
    "# neuralpoly_grid1.fit(X_train, y_train)\n",
    "\n",
    "# # Pickle the model\n",
    "# with open('../pickled_models/neuralpoly_grid1_best.pkl', 'wb') as f:\n",
    "#     pickle.dump(neuralpoly_grid1.best_estimator_, f)"
   ]
  },
  {
   "cell_type": "code",
   "execution_count": 102,
   "metadata": {},
   "outputs": [],
   "source": [
    "# Load the pickled model\n",
    "with open('../pickled_models/neuralpoly_grid1_best.pkl', 'rb') as f:\n",
    "    neuralpoly_grid1_best = pickle.load(f)"
   ]
  },
  {
   "cell_type": "code",
   "execution_count": 103,
   "metadata": {},
   "outputs": [
    {
     "name": "stdout",
     "output_type": "stream",
     "text": [
      "Recall\n",
      "Pipeline(steps=[('preprocess',\n",
      "                 ColumnTransformer(remainder='passthrough',\n",
      "                                   transformers=[('num', StandardScaler(),\n",
      "                                                  ['Age',\n",
      "                                                   'Semester_Credit_Load',\n",
      "                                                   'CGPA']),\n",
      "                                                 ('ohe',\n",
      "                                                  OneHotEncoder(handle_unknown='ignore'),\n",
      "                                                  ['Course', 'Gender',\n",
      "                                                   'Relationship_Status',\n",
      "                                                   'Family_History',\n",
      "                                                   'Residence_Type',\n",
      "                                                   'Chronic_Illness']),\n",
      "                                                 ('ord',\n",
      "                                                  OrdinalEncoder(categories=[['Poor',\n",
      "                                                                              'Average',\n",
      "                                                                              'Good'],...\n",
      "                                                                              'Frequently'],\n",
      "                                                                             ['Low',\n",
      "                                                                              'Moderate',\n",
      "                                                                              'High']]),\n",
      "                                                  ['Sleep_Quality',\n",
      "                                                   'Physical_Activity',\n",
      "                                                   'Diet_Quality',\n",
      "                                                   'Social_Support',\n",
      "                                                   'Substance_Use',\n",
      "                                                   'Counseling_Service_Use',\n",
      "                                                   'Extracurricular_Involvement'])])),\n",
      "                ('polynomialfeatures', PolynomialFeatures()),\n",
      "                ('neural',\n",
      "                 MLPClassifier(activation='logistic',\n",
      "                               learning_rate='invscaling', max_iter=2000,\n",
      "                               random_state=333, solver='lbfgs'))])\n",
      "\n",
      "Best Estimator Scores:\n",
      "Train Recall:  0.9986990459670425\n",
      "CV Recall:  0.4735573898263703\n",
      "\n",
      "Train Accuracy:  0.9992375142966069\n",
      "CV Accuracy:  0.5322191656452858\n",
      "\n",
      "Best Estimator Confusion Matrix on Training Data with no CV\n"
     ]
    },
    {
     "data": {
      "image/png": "[encoded data removed]",
      "text/plain": [
       "<Figure size 432x288 with 2 Axes>"
      ]
     },
     "metadata": {
      "needs_background": "light"
     },
     "output_type": "display_data"
    }
   ],
   "source": [
    "grid_results(neuralpoly_grid1_best)"
   ]
  },
  {
   "cell_type": "markdown",
   "metadata": {},
   "source": [
    "### XGBoost"
   ]
  },
  {
   "cell_type": "code",
   "execution_count": 104,
   "metadata": {},
   "outputs": [],
   "source": [
    "# # Creating steps for a Pipeline \n",
    "# xgb_steps = [('preprocess', preprocessor),\n",
    "#                 ('xgb', xgb.XGBClassifier(random_state=333))]\n",
    "\n",
    "# # Feeding the Pipeline the steps defined above\n",
    "# xgb_pipe = Pipeline(xgb_steps)\n",
    "\n",
    "# # Fitting the training data to the Pipeline\n",
    "# xgb_pipe.fit(X_train, y_train)\n",
    "\n",
    "# # Pickle the model\n",
    "# with open('../pickled_models/xgb_pipe.pkl', 'wb') as f:\n",
    "#     pickle.dump(xgb_pipe, f)"
   ]
  },
  {
   "cell_type": "code",
   "execution_count": 105,
   "metadata": {},
   "outputs": [],
   "source": [
    "# Load the pickled model\n",
    "with open('../pickled_models/xgb_pipe.pkl', 'rb') as f:\n",
    "    xgb_pipe = pickle.load(f)"
   ]
  },
  {
   "cell_type": "code",
   "execution_count": 106,
   "metadata": {},
   "outputs": [],
   "source": [
    "# Load the pickled model\n",
    "with open('../pickled_models/xgb_pipe.pkl', 'rb') as f:\n",
    "    xgb_pipe = pickle.load(f)"
   ]
  },
  {
   "cell_type": "code",
   "execution_count": 107,
   "metadata": {},
   "outputs": [
    {
     "name": "stdout",
     "output_type": "stream",
     "text": [
      "Train Recall:  0.9449262792714658\n",
      "CV Recall:  0.41587364190401066\n",
      "\n",
      "Train Accuracy:  0.9717880289744567\n",
      "CV Accuracy:  0.5514687003495392\n"
     ]
    },
    {
     "data": {
      "image/png": "[encoded data removed]",
      "text/plain": [
       "<Figure size 432x288 with 2 Axes>"
      ]
     },
     "metadata": {
      "needs_background": "light"
     },
     "output_type": "display_data"
    }
   ],
   "source": [
    "cv_scores(xgb_pipe)"
   ]
  },
  {
   "cell_type": "markdown",
   "metadata": {},
   "source": [
    "#### XGBoost with Random Search 1"
   ]
  },
  {
   "cell_type": "code",
   "execution_count": 108,
   "metadata": {},
   "outputs": [],
   "source": [
    "# # Creating parameters for RandomizedSearch\n",
    "# params = {\n",
    "#     'xgb__learning_rate': [0.1, 0.05, 0.01],\n",
    "#     'xgb__n_estimators': [100, 200, 300],\n",
    "#     'xgb__max_depth': [3, 5, 7],\n",
    "#     'xgb__min_child_weight': [1, 3, 5],\n",
    "#     'xgb__gamma': [0, 0.1, 0.2]\n",
    "# }\n",
    "\n",
    "# # GridSearch\n",
    "# xgb_random1 = RandomizedSearchCV(estimator=xgb_pipe, param_distributions=params, cv=5, scoring=recall_scorer, n_jobs=3, random_state=333, n_iter=50)\n",
    "\n",
    "# # Fitting the GridSearch\n",
    "# xgb_random1.fit(X_train, y_train)\n",
    "\n",
    "# # Pickle the model\n",
    "# with open('../pickled_models/xgb_random1_best.pkl', 'wb') as f:\n",
    "#     pickle.dump(xgb_random1.best_estimator_, f)"
   ]
  },
  {
   "cell_type": "code",
   "execution_count": 109,
   "metadata": {},
   "outputs": [],
   "source": [
    "# Load the pickled model\n",
    "with open('../pickled_models/xgb_random1_best.pkl', 'rb') as f:\n",
    "    xgb_random1.best_estimator_ = pickle.load(f)"
   ]
  },
  {
   "cell_type": "code",
   "execution_count": 110,
   "metadata": {},
   "outputs": [
    {
     "name": "stdout",
     "output_type": "stream",
     "text": [
      "Recall\n",
      "Pipeline(steps=[('preprocess',\n",
      "                 ColumnTransformer(remainder='passthrough',\n",
      "                                   transformers=[('num', StandardScaler(),\n",
      "                                                  ['Age',\n",
      "                                                   'Semester_Credit_Load',\n",
      "                                                   'CGPA']),\n",
      "                                                 ('ohe',\n",
      "                                                  OneHotEncoder(handle_unknown='ignore'),\n",
      "                                                  ['Course', 'Gender',\n",
      "                                                   'Relationship_Status',\n",
      "                                                   'Family_History',\n",
      "                                                   'Residence_Type',\n",
      "                                                   'Chronic_Illness']),\n",
      "                                                 ('ord',\n",
      "                                                  OrdinalEncoder(categories=[['Poor',\n",
      "                                                                              'Average',\n",
      "                                                                              'Good'],...\n",
      "                               colsample_bytree=1, gamma=0.1, gpu_id=-1,\n",
      "                               importance_type='gain',\n",
      "                               interaction_constraints='', learning_rate=0.1,\n",
      "                               max_delta_step=0, max_depth=7,\n",
      "                               min_child_weight=3, missing=nan,\n",
      "                               monotone_constraints='()', n_estimators=300,\n",
      "                               n_jobs=0, num_parallel_tree=1, random_state=333,\n",
      "                               reg_alpha=0, reg_lambda=1, scale_pos_weight=1,\n",
      "                               subsample=1, tree_method='exact',\n",
      "                               validate_parameters=1, verbosity=None))])\n",
      "\n",
      "Best Estimator Scores:\n",
      "Train Recall:  0.9640069384215091\n",
      "CV Recall:  0.4037317707599703\n",
      "\n",
      "Train Accuracy:  0.9826534502478078\n",
      "CV Accuracy:  0.5516635344318852\n",
      "\n",
      "Best Estimator Confusion Matrix on Training Data with no CV\n"
     ]
    },
    {
     "data": {
      "image/png": "[encoded data removed]",
      "text/plain": [
       "<Figure size 432x288 with 2 Axes>"
      ]
     },
     "metadata": {
      "needs_background": "light"
     },
     "output_type": "display_data"
    }
   ],
   "source": [
    "grid_results(xgb_random1.best_estimator_)"
   ]
  },
  {
   "cell_type": "markdown",
   "metadata": {},
   "source": [
    "#### XGBoost with Grid Search 1"
   ]
  },
  {
   "cell_type": "markdown",
   "metadata": {},
   "source": [
    "Tried to improve results with tailored Grid Search."
   ]
  },
  {
   "cell_type": "code",
   "execution_count": 111,
   "metadata": {},
   "outputs": [],
   "source": [
    "# # Creating parameters for RandomizedSearch\n",
    "# params = {\n",
    "#     'xgb__learning_rate': [0.1, 0.5],\n",
    "#     'xgb__n_estimators': [300, 700],\n",
    "#     'xgb__max_depth': [7, 15, 20],\n",
    "#     'xgb__min_child_weight': [2, 3, 4],\n",
    "#     'xgb__gamma': [0.1]\n",
    "# }\n",
    "\n",
    "# # GridSearch\n",
    "# xgb_grid1 = GridSearchCV(estimator=xgb_pipe, param_grid=params, cv=5, scoring=recall_scorer, n_jobs=3)\n",
    "\n",
    "# # Fitting the GridSearch\n",
    "# xgb_grid1.fit(X_train, y_train)\n",
    "\n",
    "# # Pickle the model\n",
    "# with open('../pickled_models/xgb_grid1_best.pkl', 'wb') as f:\n",
    "#     pickle.dump(xgb_grid1.best_estimator_, f)"
   ]
  },
  {
   "cell_type": "code",
   "execution_count": 112,
   "metadata": {},
   "outputs": [],
   "source": [
    "# Load the pickled model\n",
    "with open('../pickled_models/xgb_grid1_best.pkl', 'rb') as f:\n",
    "    xgb_grid1_best = pickle.load(f)"
   ]
  },
  {
   "cell_type": "code",
   "execution_count": 113,
   "metadata": {},
   "outputs": [
    {
     "name": "stdout",
     "output_type": "stream",
     "text": [
      "Recall\n",
      "Pipeline(steps=[('preprocess',\n",
      "                 ColumnTransformer(remainder='passthrough',\n",
      "                                   transformers=[('num', StandardScaler(),\n",
      "                                                  ['Age',\n",
      "                                                   'Semester_Credit_Load',\n",
      "                                                   'CGPA']),\n",
      "                                                 ('ohe',\n",
      "                                                  OneHotEncoder(handle_unknown='ignore'),\n",
      "                                                  ['Course', 'Gender',\n",
      "                                                   'Relationship_Status',\n",
      "                                                   'Family_History',\n",
      "                                                   'Residence_Type',\n",
      "                                                   'Chronic_Illness']),\n",
      "                                                 ('ord',\n",
      "                                                  OrdinalEncoder(categories=[['Poor',\n",
      "                                                                              'Average',\n",
      "                                                                              'Good'],...\n",
      "                               colsample_bytree=1, gamma=0.1, gpu_id=-1,\n",
      "                               importance_type='gain',\n",
      "                               interaction_constraints='', learning_rate=0.5,\n",
      "                               max_delta_step=0, max_depth=7,\n",
      "                               min_child_weight=3, missing=nan,\n",
      "                               monotone_constraints='()', n_estimators=300,\n",
      "                               n_jobs=0, num_parallel_tree=1, random_state=333,\n",
      "                               reg_alpha=0, reg_lambda=1, scale_pos_weight=1,\n",
      "                               subsample=1, tree_method='exact',\n",
      "                               validate_parameters=1, verbosity=None))])\n",
      "\n",
      "Best Estimator Scores:\n",
      "Train Recall:  1.0\n",
      "CV Recall:  0.43755340826924344\n",
      "\n",
      "Train Accuracy:  1.0\n",
      "CV Accuracy:  0.5320252394570794\n",
      "\n",
      "Best Estimator Confusion Matrix on Training Data with no CV\n"
     ]
    },
    {
     "data": {
      "image/png": "[encoded data removed]",
      "text/plain": [
       "<Figure size 432x288 with 2 Axes>"
      ]
     },
     "metadata": {
      "needs_background": "light"
     },
     "output_type": "display_data"
    }
   ],
   "source": [
    "grid_results(xgb_grid1_best)"
   ]
  },
  {
   "cell_type": "markdown",
   "metadata": {},
   "source": [
    "### Stacking Classifier"
   ]
  },
  {
   "cell_type": "code",
   "execution_count": 114,
   "metadata": {},
   "outputs": [],
   "source": [
    "# # Stacking Classifier\n",
    "# estimators = [('logreg',LogisticRegression(C=0.001, class_weight='balanced', max_iter=25, penalty='l1', solver='saga')), \n",
    "#               ('forest',RandomForestClassifier(criterion='gini', max_depth=30, max_features=None, max_leaf_nodes=1000, min_impurity_decrease=0,\n",
    "#                                     min_samples_split=4, min_weight_fraction_leaf=0, n_estimators=40, random_state=333)), \n",
    "#               ('xgb', xgb.XGBClassifier(gamma=0.1, learning_rate=0.5, max_depth=7, min_child_weight=3, n_estimators=300))]\n",
    "\n",
    "# # Creating steps for a Pipeline\n",
    "# sc_steps = [('preprocessing', preprocessor),\n",
    "#             ('sc', StackingClassifier(estimators=estimators, cv=5, n_jobs=3, final_estimator=RandomForestClassifier(n_estimators=700, max_depth=20, random_state=333)))]\n",
    "\n",
    "# # Feeding the Pipeline the steps defined above\n",
    "# sc_pipe = Pipeline(sc_steps)\n",
    "\n",
    "# # Fitting the training data to the Pipeline\n",
    "# sc_pipe.fit(X_train, y_train)\n",
    "\n",
    "# # Pickle the model\n",
    "# with open('../pickled_models/sc_pipe.pkl', 'wb') as f:\n",
    "#     pickle.dump(sc_pipe, f)"
   ]
  },
  {
   "cell_type": "code",
   "execution_count": 115,
   "metadata": {},
   "outputs": [],
   "source": [
    "# Load the pickled model\n",
    "with open('../pickled_models/sc_pipe.pkl', 'rb') as f:\n",
    "    sc_pipe = pickle.load(f)"
   ]
  },
  {
   "cell_type": "code",
   "execution_count": 116,
   "metadata": {},
   "outputs": [
    {
     "name": "stdout",
     "output_type": "stream",
     "text": [
      "Train Recall:  0.7632263660017347\n",
      "CV Recall:  0.40068268679982344\n",
      "\n",
      "Train Accuracy:  0.7476172321768967\n",
      "CV Accuracy:  0.5541379091197965\n"
     ]
    },
    {
     "data": {
      "image/png": "[encoded data removed]",
      "text/plain": [
       "<Figure size 432x288 with 2 Axes>"
      ]
     },
     "metadata": {
      "needs_background": "light"
     },
     "output_type": "display_data"
    }
   ],
   "source": [
    "cv_scores(sc_pipe)"
   ]
  },
  {
   "cell_type": "markdown",
   "metadata": {},
   "source": [
    "#### Stacking Classifier Default Parameters"
   ]
  },
  {
   "cell_type": "code",
   "execution_count": 117,
   "metadata": {},
   "outputs": [],
   "source": [
    "# # Stacking Classifier\n",
    "# estimators = [('logreg',LogisticRegression()), \n",
    "#               ('forest',RandomForestClassifier(random_state=333)), \n",
    "#               ('xgb', xgb.XGBClassifier())]\n",
    "\n",
    "# # Creating steps for a Pipeline\n",
    "# sc_steps = [('preprocessing', preprocessor),\n",
    "#             ('sc', StackingClassifier(estimators=estimators, cv=5, n_jobs=3, final_estimator=RandomForestClassifier(random_state=333)))]\n",
    "\n",
    "# # Feeding the Pipeline the steps defined above\n",
    "# sc_pipe = Pipeline(sc_steps)\n",
    "\n",
    "# # Fitting the training data to the Pipeline\n",
    "# sc_pipe.fit(X_train, y_train)\n",
    "\n",
    "# # Pickle the model\n",
    "# with open('../pickled_models/sc_pipe_default.pkl', 'wb') as f:\n",
    "#     pickle.dump(sc_pipe, f)"
   ]
  },
  {
   "cell_type": "code",
   "execution_count": 118,
   "metadata": {},
   "outputs": [],
   "source": [
    "# Load the pickled model\n",
    "with open('../pickled_models/sc_pipe_default.pkl', 'rb') as f:\n",
    "    sc_pipe_default = pickle.load(f)"
   ]
  },
  {
   "cell_type": "code",
   "execution_count": 119,
   "metadata": {},
   "outputs": [
    {
     "name": "stdout",
     "output_type": "stream",
     "text": [
      "Train Recall:  0.2059843885516045\n",
      "CV Recall:  0.4067695861622109\n",
      "\n",
      "Train Accuracy:  0.2651544033549371\n",
      "CV Accuracy:  0.5623347405692496\n"
     ]
    },
    {
     "data": {
      "image/png": "[encoded data removed]",
      "text/plain": [
       "<Figure size 432x288 with 2 Axes>"
      ]
     },
     "metadata": {
      "needs_background": "light"
     },
     "output_type": "display_data"
    }
   ],
   "source": [
    "cv_scores(sc_pipe_default)"
   ]
  },
  {
   "cell_type": "markdown",
   "metadata": {},
   "source": [
    "#### Stacking Classifier with Polynomials 1"
   ]
  },
  {
   "cell_type": "code",
   "execution_count": 120,
   "metadata": {},
   "outputs": [],
   "source": [
    "# # Stacking Classifier\n",
    "# estimators = [('logreg',LogisticRegression()), \n",
    "#               ('forest',RandomForestClassifier(random_state=333)), \n",
    "#               ('xgb', xgb.XGBClassifier())]\n",
    "\n",
    "# # Creating steps for a Pipeline\n",
    "# sc_steps = [('preprocessing', preprocessor),\n",
    "#             ('polynomials', PolynomialFeatures()),\n",
    "#             ('sc', StackingClassifier(estimators=estimators, cv=5, n_jobs=3))]\n",
    "\n",
    "# # Feeding the Pipeline the steps defined above\n",
    "# sc_pipepoly1 = Pipeline(sc_steps)\n",
    "\n",
    "# # Fitting the training data to the Pipeline\n",
    "# sc_pipepoly1.fit(X_train, y_train)\n",
    "\n",
    "# # Pickle the model\n",
    "# with open('../pickled_models/sc_pipepoly1.pkl', 'wb') as f:\n",
    "#     pickle.dump(sc_pipepoly1, f)"
   ]
  },
  {
   "cell_type": "code",
   "execution_count": 122,
   "metadata": {},
   "outputs": [],
   "source": [
    "# Load the pickled model\n",
    "with open('../pickled_models/sc_pipepoly1.pkl', 'rb') as f:\n",
    "    sc_pipepoly1 = pickle.load(f)"
   ]
  },
  {
   "cell_type": "code",
   "execution_count": 123,
   "metadata": {},
   "outputs": [
    {
     "name": "stdout",
     "output_type": "stream",
     "text": [
      "Train Recall:  0.9991326973113617\n",
      "CV Recall:  0.2549877454432769\n",
      "\n",
      "Train Accuracy:  0.9996187571483035\n",
      "CV Accuracy:  0.6109423033274319\n"
     ]
    },
    {
     "data": {
      "image/png": "[encoded data removed]",
      "text/plain": [
       "<Figure size 432x288 with 2 Axes>"
      ]
     },
     "metadata": {
      "needs_background": "light"
     },
     "output_type": "display_data"
    }
   ],
   "source": [
    "cv_scores(sc_pipepoly1)"
   ]
  },
  {
   "cell_type": "markdown",
   "metadata": {},
   "source": [
    "#### Stacking Classifiers with Polynomials 2"
   ]
  },
  {
   "cell_type": "code",
   "execution_count": 124,
   "metadata": {},
   "outputs": [],
   "source": [
    "# # Stacking Classifier\n",
    "# estimators = [('logreg',LogisticRegression(C=0.001, class_weight='balanced', max_iter=800, penalty='l1', solver='saga')), \n",
    "#               ('forest',RandomForestClassifier(random_state=333)), \n",
    "#               ('xgb', xgb.XGBClassifier())]\n",
    "\n",
    "# # Creating steps for a Pipeline\n",
    "# sc_steps = [('preprocessing', preprocessor),\n",
    "#             ('polynomials', PolynomialFeatures()),\n",
    "#             ('sc', StackingClassifier(estimators=estimators, cv=5, n_jobs=3, final_estimator=RandomForestClassifier(random_state=333)))]\n",
    "\n",
    "# # Feeding the Pipeline the steps defined above\n",
    "# sc_pipepoly2 = Pipeline(sc_steps)\n",
    "\n",
    "# # Fitting the training data to the Pipeline\n",
    "# sc_pipepoly2.fit(X_train, y_train)\n",
    "\n",
    "# # Pickle the model\n",
    "# with open('../pickled_models/sc_pipepoly2.pkl', 'wb') as f:\n",
    "#     pickle.dump(sc_pipepoly2, f)"
   ]
  },
  {
   "cell_type": "code",
   "execution_count": 125,
   "metadata": {},
   "outputs": [],
   "source": [
    "# Load the pickled model\n",
    "with open('../pickled_models/sc_pipepoly2.pkl', 'rb') as f:\n",
    "    sc_pipepoly2 = pickle.load(f)"
   ]
  },
  {
   "cell_type": "code",
   "execution_count": 126,
   "metadata": {},
   "outputs": [
    {
     "name": "stdout",
     "output_type": "stream",
     "text": [
      "Train Recall:  0.8620988725065047\n",
      "CV Recall:  0.44534937224741994\n",
      "\n",
      "Train Accuracy:  0.8999237514296607\n",
      "CV Accuracy:  0.5480357710290981\n"
     ]
    },
    {
     "data": {
      "image/png": "[encoded data removed]",
      "text/plain": [
       "<Figure size 432x288 with 2 Axes>"
      ]
     },
     "metadata": {
      "needs_background": "light"
     },
     "output_type": "display_data"
    }
   ],
   "source": [
    "cv_scores(sc_pipepoly2)"
   ]
  },
  {
   "cell_type": "markdown",
   "metadata": {},
   "source": [
    "#### Stacking Classifiers with Polynomials 3"
   ]
  },
  {
   "cell_type": "code",
   "execution_count": 127,
   "metadata": {},
   "outputs": [],
   "source": [
    "# # Stacking Classifier\n",
    "# estimators = [('logreg',LogisticRegression(C=0.001, class_weight='balanced', max_iter=800, penalty='l1', solver='saga')), \n",
    "#               ('forest',RandomForestClassifier(random_state=333)), \n",
    "#               ('xgb', xgb.XGBClassifier())]\n",
    "\n",
    "# # Creating steps for a Pipeline\n",
    "# sc_steps = [('preprocessing', preprocessor),\n",
    "#             ('polynomials', PolynomialFeatures()),\n",
    "#             ('sc', StackingClassifier(estimators=estimators, cv=5, n_jobs=3, final_estimator=xgb.XGBClassifier()))]\n",
    "\n",
    "# # Feeding the Pipeline the steps defined above\n",
    "# sc_pipepoly3 = Pipeline(sc_steps)\n",
    "\n",
    "# # Fitting the training data to the Pipeline\n",
    "# sc_pipepoly3.fit(X_train, y_train)\n",
    "\n",
    "# # Pickle the model\n",
    "# with open('../pickled_models/sc_pipepoly3.pkl', 'wb') as f:\n",
    "#     pickle.dump(sc_pipepoly3, f)"
   ]
  },
  {
   "cell_type": "code",
   "execution_count": 128,
   "metadata": {},
   "outputs": [],
   "source": [
    "# Load the pickled model\n",
    "with open('../pickled_models/sc_pipepoly3.pkl', 'rb') as f:\n",
    "    sc_pipepoly3 = pickle.load(f)"
   ]
  },
  {
   "cell_type": "code",
   "execution_count": 129,
   "metadata": {},
   "outputs": [
    {
     "name": "stdout",
     "output_type": "stream",
     "text": [
      "Train Recall:  0.8876843018213356\n",
      "CV Recall:  0.3659755284484135\n",
      "\n",
      "Train Accuracy:  0.8808616088448341\n",
      "CV Accuracy:  0.5590946479640474\n"
     ]
    },
    {
     "data": {
      "image/png": "[encoded data removed]",
      "text/plain": [
       "<Figure size 432x288 with 2 Axes>"
      ]
     },
     "metadata": {
      "needs_background": "light"
     },
     "output_type": "display_data"
    }
   ],
   "source": [
    "cv_scores(sc_pipepoly3)"
   ]
  },
  {
   "cell_type": "markdown",
   "metadata": {},
   "source": [
    "#### Stacking Classifiers with Polynomials 4"
   ]
  },
  {
   "cell_type": "code",
   "execution_count": 130,
   "metadata": {},
   "outputs": [],
   "source": [
    "# # Creating parameters for RandomizedSearch\n",
    "# params = {\n",
    "#     'sc__xgb__learning_rate': [0.001, 0.1],\n",
    "#     'sc__xgb__n_estimators': [300, 700],\n",
    "#     'sc__xgb__max_depth': [7, 15, 20],\n",
    "#     'sc__forest__n_estimators': [100, 300],\n",
    "#     'sc__forest__max_depth': [None, 30]\n",
    "# }\n",
    "\n",
    "# # xgb.XGBClassifier()\n",
    "# # LogisticRegressionisticRegression()\n",
    "# # RandomForestClassifier()\n",
    "\n",
    "# # GridSearch\n",
    "# sc_grid1 = GridSearchCV(estimator=sc_pipepoly3, param_grid=params, cv=5, scoring=recall_scorer, n_jobs=3)\n",
    "\n",
    "# # Fitting the GridSearch\n",
    "# sc_grid1.fit(X_train, y_train)\n",
    "\n",
    "# # Pickle the model\n",
    "# with open('../pickled_models/sc_grid1_best.pkl', 'wb') as f:\n",
    "#     pickle.dump(sc_grid1.best_estimator_, f)"
   ]
  },
  {
   "cell_type": "code",
   "execution_count": 132,
   "metadata": {},
   "outputs": [],
   "source": [
    "# Load the pickled model\n",
    "with open('../pickled_models/sc_grid1_best.pkl', 'rb') as f:\n",
    "    sc_grid1_best = pickle.load(f)"
   ]
  },
  {
   "cell_type": "code",
   "execution_count": 134,
   "metadata": {},
   "outputs": [
    {
     "name": "stdout",
     "output_type": "stream",
     "text": [
      "Recall\n",
      "Pipeline(steps=[('preprocessing',\n",
      "                 ColumnTransformer(remainder='passthrough',\n",
      "                                   transformers=[('num', StandardScaler(),\n",
      "                                                  ['Age',\n",
      "                                                   'Semester_Credit_Load',\n",
      "                                                   'CGPA']),\n",
      "                                                 ('ohe',\n",
      "                                                  OneHotEncoder(handle_unknown='ignore'),\n",
      "                                                  ['Course', 'Gender',\n",
      "                                                   'Relationship_Status',\n",
      "                                                   'Family_History',\n",
      "                                                   'Residence_Type',\n",
      "                                                   'Chronic_Illness']),\n",
      "                                                 ('ord',\n",
      "                                                  OrdinalEncoder(categories=[['Poor',\n",
      "                                                                              'Average',\n",
      "                                                                              'Good...\n",
      "                                                                  interaction_constraints=None,\n",
      "                                                                  learning_rate=None,\n",
      "                                                                  max_delta_step=None,\n",
      "                                                                  max_depth=None,\n",
      "                                                                  min_child_weight=None,\n",
      "                                                                  missing=nan,\n",
      "                                                                  monotone_constraints=None,\n",
      "                                                                  n_estimators=100,\n",
      "                                                                  n_jobs=None,\n",
      "                                                                  num_parallel_tree=None,\n",
      "                                                                  random_state=None,\n",
      "                                                                  reg_alpha=None,\n",
      "                                                                  reg_lambda=None,\n",
      "                                                                  scale_pos_weight=None,\n",
      "                                                                  subsample=None,\n",
      "                                                                  tree_method=None,\n",
      "                                                                  validate_parameters=None,\n",
      "                                                                  verbosity=None),\n",
      "                                    n_jobs=3))])\n",
      "\n",
      "Best Estimator Scores:\n",
      "Train Recall:  0.8820468343451865\n",
      "CV Recall:  0.39462677597167833\n",
      "\n",
      "Train Accuracy:  0.8783835303088067\n",
      "CV Accuracy:  0.5672909346770167\n",
      "\n",
      "Best Estimator Confusion Matrix on Training Data with no CV\n"
     ]
    },
    {
     "data": {
      "image/png": "[encoded data removed]",
      "text/plain": [
       "<Figure size 432x288 with 2 Axes>"
      ]
     },
     "metadata": {
      "needs_background": "light"
     },
     "output_type": "display_data"
    }
   ],
   "source": [
    "grid_results(sc_grid1_best)"
   ]
  },
  {
   "cell_type": "markdown",
   "metadata": {},
   "source": [
    "Monday:\n",
    "Add SVC to either Logregpoly2 or sc_grid1, whichever is better. Maybe add to neural network or XGBoost"
   ]
  },
  {
   "cell_type": "code",
   "execution_count": null,
   "metadata": {},
   "outputs": [],
   "source": []
  },
  {
   "cell_type": "code",
   "execution_count": null,
   "metadata": {},
   "outputs": [],
   "source": []
  }
 ],
 "metadata": {
  "kernelspec": {
   "display_name": "Python (learn-env)",
   "language": "python",
   "name": "learn-env"
  },
  "language_info": {
   "codemirror_mode": {
    "name": "ipython",
    "version": 3
   },
   "file_extension": ".py",
   "mimetype": "text/x-python",
   "name": "python",
   "nbconvert_exporter": "python",
   "pygments_lexer": "ipython3",
   "version": "3.8.5"
  }
 },
 "nbformat": 4,
 "nbformat_minor": 4
}
